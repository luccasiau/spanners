{
 "cells": [
  {
   "cell_type": "markdown",
   "metadata": {},
   "source": [
    "## Initialization of sorts\n",
    "This will start by using the same helper functions as in the 'helper' notebook. They work."
   ]
  },
  {
   "cell_type": "code",
   "execution_count": 11,
   "metadata": {},
   "outputs": [],
   "source": [
    "import turtle\n",
    "import numpy as np\n",
    "import os\n",
    "import time\n",
    "import math\n",
    "import sys\n",
    "from math import pi\n",
    "import subprocess\n",
    "from PIL import Image, ImageDraw\n",
    "from scipy.spatial import ConvexHull, convex_hull_plot_2d"
   ]
  },
  {
   "cell_type": "code",
   "execution_count": 12,
   "metadata": {},
   "outputs": [],
   "source": [
    "sys.path.append('..')\n",
    "from py_models.geo_math import *\n",
    "from py_models.draw_tools import *\n",
    "from py_models.euclidean_spanner import EuclideanSpanner\n",
    "from py_models.pointset import Pointset"
   ]
  },
  {
   "cell_type": "code",
   "execution_count": 23,
   "metadata": {},
   "outputs": [],
   "source": [
    "def getSegmentsFromFile(file_path):\n",
    "    file = open(file_path, 'r')\n",
    "    lines = file.readlines()\n",
    "    \n",
    "    n = int(lines[0])\n",
    "    print('N =', n)\n",
    "    print(lines[1] + lines[2] + lines[3])\n",
    "    \n",
    "    parseLine = lambda ln : [[float(ln.split()[0]), float(ln.split()[1])],\\\n",
    "                             [float(ln.split()[2]), float(ln.split()[3])]]\n",
    "    segments = [parseLine(ln) for ln in lines[4:]]\n",
    "    \n",
    "    return segments\n",
    "\n",
    "## This one uses OLD pathgreedy. Currently maintained here for comparison and testing.\n",
    "def old_get_and_draw_from_file(file_name, img_w=300, img_h=300):\n",
    "    # TODO(NOW!!!!!!!!!!!!!!!!!!!!!!!!!!!) Edit the binary below.\n",
    "    os.system('./printout_path_greedy_test < ' + file_name + ' > temp_file.out')\n",
    "    time.sleep(1.0)  # Super hacky please fix this\n",
    "    # It's been six months and I haven't been fixed. There was a reason why calling subroutine didn't work.\n",
    "    ret = draw_line_segments(getSegmentsFromFile('temp_file.out'), img_w, img_h)\n",
    "    subprocess.check_call(['rm', 'temp_file.out'])\n",
    "    return ret\n",
    "\n",
    "def draw_from_pointset(pointset, t=(3+4*np.pi)/3, img_w=300, img_h=300):\n",
    "    pointset.print_all_to_file('temp_file.in')\n",
    "    os.system('./printout_general_path_greedy_test ' + str(t) + ' < temp_file.in > temp_file.out')\n",
    "    time.sleep(1.0)  # Super hacky please fix this\n",
    "   # It's been six months and I haven't been fixed. There was a reason why calling subroutine didn't work.\n",
    "    ret = draw_line_segments(getSegmentsFromFile('temp_file.out'), img_w, img_h)\n",
    "    subprocess.check_call(['rm', 'temp_file.out'])\n",
    "    return ret"
   ]
  },
  {
   "cell_type": "code",
   "execution_count": 29,
   "metadata": {},
   "outputs": [
    {
     "name": "stdout",
     "output_type": "stream",
     "text": [
      "N = 11\n",
      "Planarity: PLANAR\n",
      "Max degree: 4\n",
      "Stretch: 3.4582\n",
      "\n"
     ]
    },
    {
     "data": {
      "image/png": "[encoded data removed]",
      "text/plain": [
       "<PIL.Image.Image image mode=RGB size=300x300 at 0x7F9A29E829D0>"
      ]
     },
     "execution_count": 29,
     "metadata": {},
     "output_type": "execute_result"
    }
   ],
   "source": [
    "ps = Pointset(file_path='../pointsets/hand/example_deg4_rounded_flipped.txt')\n",
    "draw_from_pointset(ps)"
   ]
  },
  {
   "cell_type": "code",
   "execution_count": 25,
   "metadata": {},
   "outputs": [
    {
     "name": "stdout",
     "output_type": "stream",
     "text": [
      "N = 11\n",
      "Planarity: PLANAR\n",
      "Max degree: 4\n",
      "Stretch: 3.4582\n",
      "\n"
     ]
    },
    {
     "data": {
      "image/png": "[encoded data removed]",
      "text/plain": [
       "<PIL.Image.Image image mode=RGB size=300x300 at 0x7F9A48068220>"
      ]
     },
     "execution_count": 25,
     "metadata": {},
     "output_type": "execute_result"
    }
   ],
   "source": [
    "old_get_and_draw_from_file('../pointsets/hand/example_deg4_rounded_flipped.txt')"
   ]
  },
  {
   "cell_type": "code",
   "execution_count": 30,
   "metadata": {},
   "outputs": [
    {
     "name": "stdout",
     "output_type": "stream",
     "text": [
      "N = 11\n",
      "Planarity: NOT PLANAR\n",
      "Max degree: 4\n",
      "Stretch: 3.4582\n",
      "\n"
     ]
    },
    {
     "data": {
      "image/png": "[encoded data removed]",
      "text/plain": [
       "<PIL.Image.Image image mode=RGB size=300x300 at 0x7F9A29F04A00>"
      ]
     },
     "execution_count": 30,
     "metadata": {},
     "output_type": "execute_result"
    }
   ],
   "source": [
    "ps.add_before_edge([1, 2])\n",
    "draw_from_pointset(ps)"
   ]
  },
  {
   "cell_type": "code",
   "execution_count": 6,
   "metadata": {},
   "outputs": [],
   "source": [
    "ps.add_before_edge([0, 1])\n",
    "ps.add_after_edge([0, 3])\n",
    "ps.add_after_edge([5, 6])"
   ]
  },
  {
   "cell_type": "code",
   "execution_count": 7,
   "metadata": {},
   "outputs": [
    {
     "name": "stdout",
     "output_type": "stream",
     "text": [
      "11 1 2\n",
      "-48.25 -87.58\n",
      "-100.0 0.0\n",
      "278.61 -20.99\n",
      "262.35 -75.61\n",
      "239.7 -11.69\n",
      "192.46 -79.46\n",
      "169.83 -7.49\n",
      "122.53 -82.61\n",
      "99.92 -3.99\n",
      "52.58 -85.06\n",
      "0.0 0.0\n",
      "0 1\n",
      "0 3\n",
      "5 6\n",
      "\n"
     ]
    }
   ],
   "source": [
    "ps.print_all()"
   ]
  },
  {
   "cell_type": "code",
   "execution_count": 8,
   "metadata": {},
   "outputs": [],
   "source": [
    "ps.print_all_to_file()"
   ]
  },
  {
   "cell_type": "code",
   "execution_count": null,
   "metadata": {},
   "outputs": [],
   "source": []
  }
 ],
 "metadata": {
  "kernelspec": {
   "display_name": "Python 3",
   "language": "python",
   "name": "python3"
  },
  "language_info": {
   "codemirror_mode": {
    "name": "ipython",
    "version": 3
   },
   "file_extension": ".py",
   "mimetype": "text/x-python",
   "name": "python",
   "nbconvert_exporter": "python",
   "pygments_lexer": "ipython3",
   "version": "3.8.5"
  }
 },
 "nbformat": 4,
 "nbformat_minor": 4
}
