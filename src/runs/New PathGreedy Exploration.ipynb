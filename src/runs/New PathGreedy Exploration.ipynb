{
 "cells": [
  {
   "cell_type": "markdown",
   "metadata": {},
   "source": [
    "## Initialization of sorts\n",
    "This will start by using the same helper functions as in the 'helper' notebook. They work."
   ]
  },
  {
   "cell_type": "code",
   "execution_count": 1,
   "metadata": {},
   "outputs": [],
   "source": [
    "import turtle\n",
    "import numpy as np\n",
    "import os\n",
    "import time\n",
    "import math\n",
    "import sys\n",
    "from math import pi\n",
    "import subprocess\n",
    "from PIL import Image, ImageDraw\n",
    "from scipy.spatial import ConvexHull, convex_hull_plot_2d\n",
    "import random"
   ]
  },
  {
   "cell_type": "code",
   "execution_count": 2,
   "metadata": {},
   "outputs": [],
   "source": [
    "sys.path.append('..')\n",
    "from py_models.geo_math import *\n",
    "from py_models.draw_tools import *\n",
    "from py_models.euclidean_spanner import EuclideanSpanner\n",
    "from py_models.pointset import Pointset"
   ]
  },
  {
   "cell_type": "markdown",
   "metadata": {},
   "source": [
    "#### Useful constants and drawing functions"
   ]
  },
  {
   "cell_type": "code",
   "execution_count": 3,
   "metadata": {},
   "outputs": [],
   "source": [
    "PI = np.pi\n",
    "PAPER_T = (3+4*PI)/3"
   ]
  },
  {
   "cell_type": "code",
   "execution_count": 4,
   "metadata": {},
   "outputs": [],
   "source": [
    "def draw_pathgreedy_from_pointset(pointset, t=PAPER_T, img_w=300, img_h=300):\n",
    "    pointset.print_all_to_file('temp_file.in')\n",
    "    cmd = './printout_general_path_greedy_test ' + str(t) + ' < temp_file.in > temp_file.out'\n",
    "    output = subprocess.check_output(cmd, shell=True)\n",
    "\n",
    "    print('Pointset is' + (' ' if are_convex(pointset.points) else ' NOT ') + 'convex')\n",
    "    print(output)\n",
    "    ret = draw_line_segments(get_segments_from_file('temp_file.out'), img_w, img_h, pointset=pointset)\n",
    "    subprocess.check_call(['rm', 'temp_file.in'])\n",
    "    subprocess.check_call(['rm', 'temp_file.out'])\n",
    "    return ret"
   ]
  },
  {
   "cell_type": "markdown",
   "metadata": {},
   "source": [
    "## Actual work"
   ]
  },
  {
   "cell_type": "code",
   "execution_count": 5,
   "metadata": {},
   "outputs": [
    {
     "name": "stdout",
     "output_type": "stream",
     "text": [
      "Pointset is convex\n",
      "b''\n",
      "N = 11\n",
      "Planarity: PLANAR\n",
      "Max degree: 3\n",
      "Stretch: 3.45837\n",
      "\n"
     ]
    },
    {
     "data": {
      "image/png": "[encoded data removed]",
      "text/plain": [
       "<PIL.Image.Image image mode=RGB size=800x300 at 0x7FCD587E4160>"
      ]
     },
     "execution_count": 5,
     "metadata": {},
     "output_type": "execute_result"
    }
   ],
   "source": [
    "points = [\n",
    "    [0.0, 0.0],                                #  0\n",
    "    [-48.25806499350447, 87.58515378237739],   #  1\n",
    "    [-100.0, 0.0],                             #  2\n",
    "    [278.6114863027456, 20.99050464871304],    #  3\n",
    "    [262.3556062275327, 75.61730109106234],    #  4\n",
    "    [239.70656668920972, 11.694955721172022],  #  5\n",
    "    [192.46145454090077, 79.46536034295708],   #  6\n",
    "    [169.83252889374543, 7.497475267610899],   #  7\n",
    "    [122.53231758155182, 82.6142973255933],    #  8\n",
    "    [99.9200106660978, 3.998933418663416],     #  9\n",
    "    [52.57518820490763, 85.06379714789684],    # 10\n",
    "]\n",
    "ps = Pointset(points=points)\n",
    "# ps.add_before_edge([0, 9])\n",
    "# ps.add_before_edge([1, 10])\n",
    "ps.add_before_edge([1, 2])\n",
    "# ps.add_before_edge([9, 10])\n",
    "draw_pathgreedy_from_pointset(ps, t=PAPER_T, img_w=800)"
   ]
  },
  {
   "cell_type": "code",
   "execution_count": 6,
   "metadata": {},
   "outputs": [
    {
     "data": {
      "text/plain": [
       "[2, 3]"
      ]
     },
     "execution_count": 6,
     "metadata": {},
     "output_type": "execute_result"
    }
   ],
   "source": [
    "ps.find_diameter()"
   ]
  },
  {
   "cell_type": "code",
   "execution_count": 7,
   "metadata": {},
   "outputs": [
    {
     "name": "stdout",
     "output_type": "stream",
     "text": [
      "Pointset is NOT convex\n",
      "b''\n",
      "N = 22\n",
      "Planarity: PLANAR\n",
      "Max degree: 4\n",
      "Stretch: 3.45837\n",
      "\n"
     ]
    },
    {
     "data": {
      "image/png": "[encoded data removed]",
      "text/plain": [
       "<PIL.Image.Image image mode=RGB size=900x200 at 0x7FCD38278FD0>"
      ]
     },
     "execution_count": 7,
     "metadata": {},
     "output_type": "execute_result"
    }
   ],
   "source": [
    "extra_points = [shift(scale(refY(p), 1/1.002), x=-250) for p in points]\n",
    "ps = Pointset(points=points+extra_points)\n",
    "ps.add_before_edge([1, 2])\n",
    "draw_pathgreedy_from_pointset(ps, t=PAPER_T, img_w=900, img_h=200)\n",
    "# Note: Talk in thesis about number of degree 4 vertices."
   ]
  },
  {
   "cell_type": "markdown",
   "metadata": {},
   "source": [
    "#### Short note\n",
    "Though the above pointset is not convex, I believe it is possible to tweak it slightly in order to make it so, while maintaining this topology. It means that PathGreedy-5.19 on convex pointsets can have two degree-4 vertices."
   ]
  },
  {
   "cell_type": "code",
   "execution_count": 8,
   "metadata": {},
   "outputs": [
    {
     "name": "stdout",
     "output_type": "stream",
     "text": [
      "Pointset is NOT convex\n",
      "b''\n",
      "N = 12\n",
      "Planarity: PLANAR\n",
      "Max degree: 3\n",
      "Stretch: 3.41421\n",
      "\n"
     ]
    },
    {
     "data": {
      "image/png": "[encoded data removed]",
      "text/plain": [
       "<PIL.Image.Image image mode=RGB size=300x300 at 0x7FCD28E51850>"
      ]
     },
     "execution_count": 8,
     "metadata": {},
     "output_type": "execute_result"
    }
   ],
   "source": [
    "points_rectangle = [\n",
    "    [0, 1], # 0\n",
    "    [1, 1], # 1\n",
    "    [2, 1], # 2\n",
    "    [3, 1], # 3\n",
    "    [4, 1], # 4\n",
    "    [0, 0], # 5\n",
    "    [1, 0], # 6\n",
    "    [2, 0], # 7\n",
    "    [3, 0], # 8\n",
    "    [4, 0], # 9\n",
    "    [-.5, .5],\n",
    "    [4.5, .5],\n",
    "]\n",
    "ps = Pointset(points=points_rectangle)\n",
    "draw_pathgreedy_from_pointset(ps, t=PAPER_T)"
   ]
  },
  {
   "cell_type": "markdown",
   "metadata": {},
   "source": [
    "### Trying to build a degree-3 using only the lower hull"
   ]
  },
  {
   "cell_type": "code",
   "execution_count": 9,
   "metadata": {},
   "outputs": [
    {
     "name": "stdout",
     "output_type": "stream",
     "text": [
      "diameter: [0, 1]\n",
      "Pointset is convex\n",
      "b''\n",
      "N = 6\n",
      "Planarity: PLANAR\n",
      "Max degree: 3\n",
      "Stretch: 1.10931\n",
      "\n"
     ]
    },
    {
     "data": {
      "image/png": "[encoded data removed]",
      "text/plain": [
       "<PIL.Image.Image image mode=RGB size=900x300 at 0x7FCD58B8DAC0>"
      ]
     },
     "execution_count": 9,
     "metadata": {},
     "output_type": "execute_result"
    }
   ],
   "source": [
    "P = np.array([-100, 0])\n",
    "Q = np.array([+100, 0])\n",
    "# trying it simple first -- can shift by epsilon later\n",
    "# A = np.array([99, 1])\n",
    "A = np.array([-99, -10])\n",
    "# B = np.array([-98, 2])\n",
    "temp_b = np.array([-98, -20])\n",
    "B = point_rotation(0.001, temp_b, A)\n",
    "# C = np.array([-97, 3])\n",
    "temp_c = np.array([-97, -30])\n",
    "C = point_rotation(0.005, temp_c, B)\n",
    "temp_d = point_rotation(PI/2, C, B)\n",
    "temp_d = (temp_d-B)*19.5 + B\n",
    "# D = point_rotation(0, temp_d, B)\n",
    "D = [99, -4]\n",
    "ps = Pointset(points=[P, Q, A, B, C, D])\n",
    "print('diameter:', ps.find_diameter())\n",
    "draw_pathgreedy_from_pointset(ps, t=PAPER_T, img_w=900, img_h=300)"
   ]
  },
  {
   "cell_type": "code",
   "execution_count": 10,
   "metadata": {},
   "outputs": [
    {
     "data": {
      "text/plain": [
       "([99, -4], [0, 1])"
      ]
     },
     "execution_count": 10,
     "metadata": {},
     "output_type": "execute_result"
    }
   ],
   "source": [
    "D, ps.find_diameter()"
   ]
  },
  {
   "cell_type": "markdown",
   "metadata": {},
   "source": [
    "#### it worked!!!\n",
    "time to try to use both upper and lower hull using reflection around the origin"
   ]
  },
  {
   "cell_type": "code",
   "execution_count": 11,
   "metadata": {},
   "outputs": [
    {
     "name": "stdout",
     "output_type": "stream",
     "text": [
      "Pointset is convex\n",
      "b''\n",
      "N = 10\n",
      "Planarity: PLANAR\n",
      "Max degree: 3\n",
      "Stretch: 1.29579\n",
      "\n"
     ]
    },
    {
     "data": {
      "image/png": "[encoded data removed]",
      "text/plain": [
       "<PIL.Image.Image image mode=RGB size=900x300 at 0x7FCD28E51D00>"
      ]
     },
     "execution_count": 11,
     "metadata": {},
     "output_type": "execute_result"
    }
   ],
   "source": [
    "Aref = point_rotation(PI, A)\n",
    "Bref = point_rotation(PI, B)\n",
    "Cref = point_rotation(PI, C)\n",
    "Dref = point_rotation(PI, D)\n",
    "ps = Pointset(points=[P, Q, A, B, C, D, Aref, Bref, Cref, Dref])\n",
    "draw_pathgreedy_from_pointset(ps, t=PAPER_T, img_w=900, img_h=300)\n",
    "# this is nothing interesting"
   ]
  },
  {
   "cell_type": "code",
   "execution_count": 12,
   "metadata": {},
   "outputs": [
    {
     "data": {
      "text/plain": [
       "[4, 8]"
      ]
     },
     "execution_count": 12,
     "metadata": {},
     "output_type": "execute_result"
    }
   ],
   "source": [
    "ps.find_diameter()"
   ]
  },
  {
   "cell_type": "markdown",
   "metadata": {},
   "source": [
    "#### Trying something new"
   ]
  },
  {
   "cell_type": "code",
   "execution_count": 13,
   "metadata": {},
   "outputs": [
    {
     "name": "stdout",
     "output_type": "stream",
     "text": [
      "diameter: [0, 1]\n",
      "D coordinates: [99.94757664  0.99762253]\n",
      "Pointset is convex\n",
      "b''\n",
      "N = 6\n",
      "Planarity: PLANAR\n",
      "Max degree: 2\n",
      "Stretch: 1.10622\n",
      "\n"
     ]
    },
    {
     "data": {
      "image/png": "[encoded data removed]",
      "text/plain": [
       "<PIL.Image.Image image mode=RGB size=900x400 at 0x7FCD28E51DC0>"
      ]
     },
     "execution_count": 13,
     "metadata": {},
     "output_type": "execute_result"
    }
   ],
   "source": [
    "angle_eps = .05\n",
    "shrink_eps = .001\n",
    "P = np.array([-100, 0])\n",
    "Q = np.array([+100, 0])\n",
    "A = scale_vector(Q, point_rotation(-angle_eps, P, Q), 1-shrink_eps)\n",
    "B = scale_vector(Q, point_rotation(-angle_eps, A, Q), 1-shrink_eps)\n",
    "C = scale_vector(Q, point_rotation(-angle_eps*.1, B, Q), 1-shrink_eps)\n",
    "D = point_rotation(angle_eps, scale_vector(Q, point_rotation(angle_eps/10, Q, P), 1-shrink_eps), Q)\n",
    "ps = Pointset(points=[P, Q, A, B, C, D,])\n",
    "print('diameter:', ps.find_diameter())\n",
    "print('D coordinates:', D)\n",
    "draw_pathgreedy_from_pointset(ps, t=PAPER_T, img_w=900, img_h=400)"
   ]
  },
  {
   "cell_type": "code",
   "execution_count": 14,
   "metadata": {},
   "outputs": [
    {
     "data": {
      "text/plain": [
       "1.7707395350967459"
      ]
     },
     "execution_count": 14,
     "metadata": {},
     "output_type": "execute_result"
    }
   ],
   "source": [
    "angle_between(B, C, D)"
   ]
  },
  {
   "cell_type": "code",
   "execution_count": 15,
   "metadata": {},
   "outputs": [],
   "source": [
    "### another attempt"
   ]
  },
  {
   "cell_type": "code",
   "execution_count": 16,
   "metadata": {},
   "outputs": [
    {
     "name": "stdout",
     "output_type": "stream",
     "text": [
      "diameter: [0, 1]\n",
      "Pointset is convex\n",
      "b''\n",
      "N = 9\n",
      "Planarity: PLANAR\n",
      "Max degree: 3\n",
      "Stretch: 1.25183\n",
      "\n"
     ]
    },
    {
     "data": {
      "image/png": "[encoded data removed]",
      "text/plain": [
       "<PIL.Image.Image image mode=RGB size=900x500 at 0x7FCD58BC0880>"
      ]
     },
     "execution_count": 16,
     "metadata": {},
     "output_type": "execute_result"
    }
   ],
   "source": [
    "step = 10\n",
    "P = np.array([-100, 0])\n",
    "Q = np.array([+100, 0])\n",
    "L1 = scale_vector(Q, np.array([-100, 1*step]), .99)\n",
    "L2 = scale_vector(Q, np.array([-100, 2*step]), .98)\n",
    "L3 = scale_vector(Q, np.array([-100, 3*step]), .97)\n",
    "L4 = scale_vector(Q, np.array([-100, 4*step]), .96)\n",
    "L5 = scale_vector(Q, np.array([-100, 5*step]), .95)\n",
    "L6 = scale_vector(Q, np.array([-100, 6*step]), .94)\n",
    "L7 = scale_vector(Q, np.array([-100, 7*step]), .93)\n",
    "L8 = scale_vector(Q, np.array([-100, 8*step]), .92)\n",
    "L9 = scale_vector(Q, np.array([-100, 9*step]), .89)\n",
    "L10 = scale_vector(Q, np.array([-100, 10*step]), .87)\n",
    "L11 = scale_vector(Q, np.array([-100, 11*step]), .85)\n",
    "R1 = scale_vector(P, np.array([+100, 1*step]), .99)\n",
    "R2 = scale_vector(P, np.array([+100, 2*step]), .98)\n",
    "R3 = scale_vector(P, np.array([+100, 3*step]), .97)\n",
    "R4 = scale_vector(P, np.array([+100, 4*step]), .96)\n",
    "R5 = scale_vector(P, np.array([+100, 5*step]), .95)\n",
    "# ps = Pointset(points=[P, Q, L1, L2, L3, L4, L5, L6, L7, L8, R1, R2, L9, L10, L11, R3, R4, R5])\n",
    "# ps = Pointset(points=[P, Q, R1, R2, L9, L10, L11, R3])\n",
    "ps = Pointset(points=[P, Q, L1, L2, L3, L4, L5, L6, R1])\n",
    "print('diameter:', ps.find_diameter())\n",
    "draw_pathgreedy_from_pointset(ps, t=PAPER_T, img_w=900, img_h=500)"
   ]
  },
  {
   "cell_type": "code",
   "execution_count": 17,
   "metadata": {},
   "outputs": [
    {
     "data": {
      "text/plain": [
       "198.24734550555777"
      ]
     },
     "execution_count": 17,
     "metadata": {},
     "output_type": "execute_result"
    }
   ],
   "source": [
    "point_distance(L1, Q)"
   ]
  },
  {
   "cell_type": "code",
   "execution_count": 18,
   "metadata": {},
   "outputs": [
    {
     "data": {
      "text/plain": [
       "'Hello world'"
      ]
     },
     "execution_count": 18,
     "metadata": {},
     "output_type": "execute_result"
    }
   ],
   "source": [
    "x = \"Hello world\"\n",
    "x"
   ]
  },
  {
   "cell_type": "markdown",
   "metadata": {},
   "source": [
    "## Planarity counter example"
   ]
  },
  {
   "cell_type": "code",
   "execution_count": 19,
   "metadata": {},
   "outputs": [],
   "source": [
    "p = dict()"
   ]
  },
  {
   "cell_type": "code",
   "execution_count": 20,
   "metadata": {},
   "outputs": [],
   "source": [
    "p[0] = np.array([0, 0])\n",
    "p[1] = np.array([100.00001, 0])\n",
    "p[2] = scale_vector(p[0], point_rotation(-PI/3, p[1], p[0]), .99999)\n",
    "p[3] = scale_vector(p[0], point_rotation(-PI/3, p[2], p[0]), 1.000001)"
   ]
  },
  {
   "cell_type": "code",
   "execution_count": 21,
   "metadata": {},
   "outputs": [],
   "source": [
    "#  building right purple path, connecting 2 and 1. This seems to work\n",
    "eps = .0001\n",
    "p[4] = scale_vector(p[2], point_rotation(PI+eps, p[3], p[2]), .9)\n",
    "p[5] = scale_vector(p[4], point_rotation(PI+eps, p[2], p[4]), .8)\n",
    "# ..\n",
    "p[6] = scale_vector(p[1], point_rotation(PI-eps, p[0], p[1]), .9)\n",
    "p[7] = scale_vector(p[6], point_rotation(PI-0.3, p[1], p[6]), .7)\n",
    "# ..\n",
    "p[8] = scale_vector(p[5], point_rotation(PI+0.4, p[4], p[5]), .5)"
   ]
  },
  {
   "cell_type": "code",
   "execution_count": 22,
   "metadata": {},
   "outputs": [],
   "source": [
    "# building left purple path, connecting 3 to 0\n",
    "eps = .0001\n",
    "p[9]  = scale_vector(p[3], point_rotation(PI-eps, p[2], p[3]), .8)\n",
    "p[10] = scale_vector(p[9], point_rotation(PI-eps, p[3], p[9]), .7)\n",
    "# ..\n",
    "p[11] = scale_vector(p[0], point_rotation(PI+eps, p[1], p[0]), .9)\n",
    "p[12] = scale_vector(p[11], point_rotation(PI+0.1, p[0], p[11]), .8)\n",
    "# ..\n",
    "p[13] = scale_vector(p[10], point_rotation(PI-0.7, p[9], p[10]), .5)"
   ]
  },
  {
   "cell_type": "code",
   "execution_count": 23,
   "metadata": {},
   "outputs": [
    {
     "name": "stdout",
     "output_type": "stream",
     "text": [
      "Pointset is convex\n",
      "b''\n",
      "N = 14\n",
      "Planarity: PLANAR\n",
      "Max degree: 3\n",
      "Stretch: 2\n",
      "\n"
     ]
    },
    {
     "data": {
      "image/png": "[encoded data removed]",
      "text/plain": [
       "<PIL.Image.Image image mode=RGB size=900x300 at 0x7FCD382955B0>"
      ]
     },
     "execution_count": 23,
     "metadata": {},
     "output_type": "execute_result"
    }
   ],
   "source": [
    "points = [p[i] for i in range(len(p))]\n",
    "#ps = Pointset(points=points)\n",
    "#ps = Pointset(points=points)\n",
    "ps = Pointset(file_path='../pointsets/hand/example_not_plane.txt')\n",
    "#ps.add_before_edge([3, 2])\n",
    "draw_pathgreedy_from_pointset(ps, t=2, img_w=900, img_h=300)"
   ]
  },
  {
   "cell_type": "code",
   "execution_count": 24,
   "metadata": {},
   "outputs": [
    {
     "data": {
      "text/plain": [
       "405.15214508141923"
      ]
     },
     "execution_count": 24,
     "metadata": {},
     "output_type": "execute_result"
    }
   ],
   "source": [
    "right_purple_path = point_distance(p[2], p[4]) +\\\n",
    "                    point_distance(p[4], p[5]) +\\\n",
    "                    point_distance(p[5], p[8]) +\\\n",
    "                    point_distance(p[8], p[7]) +\\\n",
    "                    point_distance(p[7], p[6]) +\\\n",
    "                    point_distance(p[6], p[1])\n",
    "right_purple_path"
   ]
  },
  {
   "cell_type": "code",
   "execution_count": 25,
   "metadata": {},
   "outputs": [
    {
     "data": {
      "text/plain": [
       "402.53004054106907"
      ]
     },
     "execution_count": 25,
     "metadata": {},
     "output_type": "execute_result"
    }
   ],
   "source": [
    "left_purple_path = point_distance(p[3], p[9])   +\\\n",
    "                   point_distance(p[9], p[10])  +\\\n",
    "                   point_distance(p[10], p[13]) +\\\n",
    "                   point_distance(p[13], p[12]) +\\\n",
    "                   point_distance(p[12], p[11]) +\\\n",
    "                   point_distance(p[11], p[0])\n",
    "left_purple_path"
   ]
  },
  {
   "cell_type": "code",
   "execution_count": 26,
   "metadata": {},
   "outputs": [
    {
     "name": "stdout",
     "output_type": "stream",
     "text": [
      "14 0 0\n",
      "0.0 0.0\n",
      "100.00001 0.0\n",
      "49.99950499995002 -86.60168301320752\n",
      "-49.99955499945497 -86.60176961489056\n",
      "139.9986585416246 -86.59260515630822\n",
      "211.9979802887391 -86.57814293855375\n",
      "190.00001854999996 -0.009000000885030014\n",
      "250.18436130511697 -18.63279340971119\n",
      "245.15304779027247 -72.5525543851693\n",
      "-129.9988026059109 -86.59383897144998\n",
      "-185.99827509528762 -86.5826875737462\n",
      "-90.00000854999996 -0.00900000088500797\n",
      "-161.63959645517573 -7.204170713011671\n",
      "-207.41006264424473 -68.54049771722218\n",
      "\n"
     ]
    }
   ],
   "source": [
    "ps.print_all()"
   ]
  },
  {
   "cell_type": "code",
   "execution_count": 27,
   "metadata": {},
   "outputs": [
    {
     "name": "stdout",
     "output_type": "stream",
     "text": [
      "\\fill[fill=black] (0.000, 0.000) circle (0.2cm) node[anchor=north] {$0$};\n",
      "\\fill[fill=black] (10.000, 0.000) circle (0.2cm) node[anchor=north] {$1$};\n",
      "\\fill[fill=black] (5.000, -8.660) circle (0.2cm) node[anchor=north] {$2$};\n",
      "\\fill[fill=black] (-5.000, -8.660) circle (0.2cm) node[anchor=north] {$3$};\n",
      "\\fill[fill=black] (14.000, -8.659) circle (0.2cm) node[anchor=north] {$4$};\n",
      "\\fill[fill=black] (21.200, -8.658) circle (0.2cm) node[anchor=north] {$5$};\n",
      "\\fill[fill=black] (19.000, -0.001) circle (0.2cm) node[anchor=north] {$6$};\n",
      "\\fill[fill=black] (25.018, -1.863) circle (0.2cm) node[anchor=north] {$7$};\n",
      "\\fill[fill=black] (24.515, -7.255) circle (0.2cm) node[anchor=north] {$8$};\n",
      "\\fill[fill=black] (-13.000, -8.659) circle (0.2cm) node[anchor=north] {$9$};\n",
      "\\fill[fill=black] (-18.600, -8.658) circle (0.2cm) node[anchor=north] {$10$};\n",
      "\\fill[fill=black] (-9.000, -0.001) circle (0.2cm) node[anchor=north] {$11$};\n",
      "\\fill[fill=black] (-16.164, -0.720) circle (0.2cm) node[anchor=north] {$12$};\n",
      "\\fill[fill=black] (-20.741, -6.854) circle (0.2cm) node[anchor=north] {$13$};\n"
     ]
    }
   ],
   "source": [
    "for i, point in enumerate(ps.points):\n",
    "    print('\\\\fill[fill=black] (%.3f, %.3f) circle (0.2cm) node[anchor=north] {$%d$};' % (point[0]/10, point[1]/10, i))"
   ]
  },
  {
   "cell_type": "code",
   "execution_count": 28,
   "metadata": {},
   "outputs": [
    {
     "name": "stdout",
     "output_type": "stream",
     "text": [
      "pp = dict()\n",
      "pp[0] = np.array([0.000, 0.000])\n",
      "pp[1] = np.array([10.000, 0.000])\n",
      "pp[2] = np.array([5.000, -8.660])\n",
      "pp[3] = np.array([-5.000, -8.660])\n",
      "pp[4] = np.array([14.000, -8.659])\n",
      "pp[5] = np.array([21.200, -8.658])\n",
      "pp[6] = np.array([19.000, -0.001])\n",
      "pp[7] = np.array([25.018, -1.863])\n",
      "pp[8] = np.array([24.515, -7.255])\n",
      "pp[9] = np.array([-13.000, -8.659])\n",
      "pp[10] = np.array([-18.600, -8.658])\n",
      "pp[11] = np.array([-9.000, -0.001])\n",
      "pp[12] = np.array([-16.164, -0.720])\n",
      "pp[13] = np.array([-20.741, -6.854])\n"
     ]
    }
   ],
   "source": [
    "print('pp = dict()')\n",
    "for i, point in enumerate(ps.points):\n",
    "    print('pp[%d] = np.array([%.3f, %.3f])' % (i, point[0]/10, point[1]/10))"
   ]
  },
  {
   "cell_type": "code",
   "execution_count": 29,
   "metadata": {},
   "outputs": [],
   "source": [
    "pp = dict()\n",
    "pp[0] = np.array([0.000, 0.000])\n",
    "pp[1] = np.array([10.000, 0.000])\n",
    "pp[2] = np.array([5.000, -8.660])\n",
    "pp[3] = np.array([-5.000, -8.660])\n",
    "pp[4] = np.array([14.000, -8.659])\n",
    "pp[5] = np.array([21.200, -8.658])\n",
    "pp[6] = np.array([19.000, -0.001])\n",
    "pp[7] = np.array([25.018, -1.863])\n",
    "pp[8] = np.array([24.515, -7.255])\n",
    "pp[9] = np.array([-13.000, -8.659])\n",
    "pp[10] = np.array([-18.600, -8.658])\n",
    "pp[11] = np.array([-9.000, -0.001])\n",
    "pp[12] = np.array([-16.164, -0.720])\n",
    "pp[13] = np.array([-20.741, -6.854])"
   ]
  },
  {
   "cell_type": "code",
   "execution_count": 30,
   "metadata": {},
   "outputs": [
    {
     "name": "stdout",
     "output_type": "stream",
     "text": [
      "Pointset is convex\n",
      "b''\n",
      "N = 14\n",
      "Planarity: NOT PLANAR\n",
      "Max degree: 2\n",
      "Stretch: 5.05143\n",
      "\n"
     ]
    },
    {
     "data": {
      "image/png": "[encoded data removed]",
      "text/plain": [
       "<PIL.Image.Image image mode=RGB size=900x300 at 0x7FCD28E51CD0>"
      ]
     },
     "execution_count": 30,
     "metadata": {},
     "output_type": "execute_result"
    }
   ],
   "source": [
    "ps = Pointset(points=pp, is_dict=True)\n",
    "draw_pathgreedy_from_pointset(ps, t=PAPER_T, img_w=900, img_h=300)"
   ]
  },
  {
   "cell_type": "code",
   "execution_count": null,
   "metadata": {},
   "outputs": [],
   "source": []
  },
  {
   "cell_type": "code",
   "execution_count": null,
   "metadata": {},
   "outputs": [],
   "source": []
  },
  {
   "cell_type": "code",
   "execution_count": null,
   "metadata": {},
   "outputs": [],
   "source": []
  },
  {
   "cell_type": "code",
   "execution_count": null,
   "metadata": {},
   "outputs": [],
   "source": []
  },
  {
   "cell_type": "code",
   "execution_count": null,
   "metadata": {},
   "outputs": [],
   "source": []
  },
  {
   "cell_type": "code",
   "execution_count": null,
   "metadata": {},
   "outputs": [],
   "source": [
    "pp = {}\n",
    "pp = [1, 0]"
   ]
  }
 ],
 "metadata": {
  "kernelspec": {
   "display_name": "Python 3",
   "language": "python",
   "name": "python3"
  },
  "language_info": {
   "codemirror_mode": {
    "name": "ipython",
    "version": 3
   },
   "file_extension": ".py",
   "mimetype": "text/x-python",
   "name": "python",
   "nbconvert_exporter": "python",
   "pygments_lexer": "ipython3",
   "version": "3.8.5"
  }
 },
 "nbformat": 4,
 "nbformat_minor": 4
}
