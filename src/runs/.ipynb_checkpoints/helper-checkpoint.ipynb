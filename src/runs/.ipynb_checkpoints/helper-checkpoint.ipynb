{
 "cells": [
  {
   "cell_type": "code",
   "execution_count": 228,
   "metadata": {},
   "outputs": [],
   "source": [
    "import turtle\n",
    "import numpy as np\n",
    "import os\n",
    "import time\n",
    "import math\n",
    "from math import pi\n",
    "import subprocess\n",
    "from PIL import Image, ImageDraw"
   ]
  },
  {
   "cell_type": "code",
   "execution_count": 219,
   "metadata": {},
   "outputs": [],
   "source": [
    "def drawLineSegments(segments, img_w=300, img_h=300, draw_size=250):\n",
    "    minX = (img_w - draw_size)/2\n",
    "    minY = abs((img_h - draw_size)/2)\n",
    "    minX = 10\n",
    "    minY = 10\n",
    "    \n",
    "    span = np.max(segments) - np.min(segments)\n",
    "    ratio = draw_size/span\n",
    "    shift = -np.min(segments)\n",
    "    \n",
    "    shiftX = -float('inf')\n",
    "    shiftY = -float('inf')\n",
    "    for segment in segments:\n",
    "        shiftX = max(shiftX, -float(segment[0][0]), -float(segment[1][0]))\n",
    "        shiftY = max(shiftY, -float(segment[0][1]), -float(segment[1][1]))\n",
    "    \n",
    "    qx = lambda v : (v + shiftX) * ratio + minX\n",
    "    qy = lambda v : (v + shiftY) * ratio + minY\n",
    "    \n",
    "    img = Image.new('RGB', (img_w, img_h), (255, 255, 255))\n",
    "    draw = ImageDraw.Draw(img)\n",
    "    \n",
    "    for segment in segments:\n",
    "        draw.line((qx(segment[0][0]), qy(segment[0][1]), qx(segment[1][0]), qy(segment[1][1])), fill=256)\n",
    "        \n",
    "    return img"
   ]
  },
  {
   "cell_type": "code",
   "execution_count": 220,
   "metadata": {},
   "outputs": [],
   "source": [
    "#TODO and reflect: Maybe these lines info shouldn't be hardcoded\n",
    "def getSegmentsFromFile(file_path):\n",
    "    file = open(file_path, 'r')\n",
    "    lines = file.readlines()\n",
    "    \n",
    "    n = int(lines[0])\n",
    "    print('N =', n)\n",
    "    print(lines[1] + lines[2] + lines[3])\n",
    "    \n",
    "    parseLine = lambda ln : [[float(ln.split()[0]), float(ln.split()[1])],\\\n",
    "                             [float(ln.split()[2]), float(ln.split()[3])]]\n",
    "    segments = [parseLine(ln) for ln in lines[4:]]\n",
    "    \n",
    "    return segments"
   ]
  },
  {
   "cell_type": "code",
   "execution_count": 221,
   "metadata": {},
   "outputs": [],
   "source": [
    "def get_and_draw_from_file(file_name):\n",
    "    # subprocess.check_call(['./printout_path_greedy_test', '<', file_name, '>', 'temp_file.out'])\n",
    "    #output = subprocess.check_output(['./printout_path_greedy_test', '<', file_name]).decode('utf-8')\n",
    "    os.system('./printout_path_greedy_test < ' + file_name + ' > temp_file.out')\n",
    "    #print('A', output)\n",
    "    time.sleep(0.5)  # Super hacky please fix this\n",
    "    ret = drawLineSegments(getSegmentsFromFile('temp_file.out'))\n",
    "    subprocess.check_call(['rm', 'temp_file.out'])\n",
    "    return ret"
   ]
  },
  {
   "cell_type": "code",
   "execution_count": 342,
   "metadata": {},
   "outputs": [
    {
     "name": "stdout",
     "output_type": "stream",
     "text": [
      "N = 11\n",
      "Planarity: PLANAR\n",
      "Max degree: 4\n",
      "Stretch: 3.45837\n",
      "\n"
     ]
    },
    {
     "data": {
      "image/png": "[encoded data removed]",
      "text/plain": [
       "<PIL.Image.Image image mode=RGB size=300x300 at 0x7FDE58563E10>"
      ]
     },
     "execution_count": 342,
     "metadata": {},
     "output_type": "execute_result"
    }
   ],
   "source": [
    "get_and_draw_from_file('../pointsets/hand/013.txt')"
   ]
  },
  {
   "cell_type": "code",
   "execution_count": 185,
   "metadata": {},
   "outputs": [],
   "source": [
    "# possible keyword: crust, beta skeleton\n",
    "#Nina amenta\n",
    "#bern\n",
    "\n",
    "# reminder: check if convex problem is NP HARD\n",
    "\n",
    "#david eppstein"
   ]
  },
  {
   "cell_type": "markdown",
   "metadata": {},
   "source": [
    "### Counter-example finder\n",
    "This section is just full of little things for me to find a counter-example"
   ]
  },
  {
   "cell_type": "code",
   "execution_count": 300,
   "metadata": {},
   "outputs": [],
   "source": [
    "# Rotate point P around pivot A by angle theta\n",
    "def point_rotation(P, A, theta):\n",
    "    sin_t = np.sin(theta)\n",
    "    cos_t = np.cos(theta)\n",
    "    \n",
    "    NP = A - P\n",
    "    NP = np.array([NP[0] * cos_t - NP[1] * sin_t, NP[0] * sin_t + NP[1] * cos_t])\n",
    "    NP = NP + P\n",
    "    return NP\n",
    "\n",
    "# distance between two points\n",
    "def point_dist(A, B):\n",
    "    return np.sqrt(np.sum((B-A)**2))"
   ]
  },
  {
   "cell_type": "code",
   "execution_count": 195,
   "metadata": {},
   "outputs": [],
   "source": [
    "# Original version\n",
    "V = np.array([0., 0.])\n",
    "C = np.array([-0.5, sqrt(3)/2])\n",
    "D = np.array([-1., 0.])\n",
    "B = np.array([0.5, sqrt(3)/2])\n",
    "#A = np.array([0.999, 0.04471017781])\n",
    "#A = np.array([1., 0.])"
   ]
  },
  {
   "cell_type": "code",
   "execution_count": 331,
   "metadata": {},
   "outputs": [],
   "source": [
    "# Scaled version\n",
    "V = np.array([0., 0.])\n",
    "C = np.array([-50., 100*sqrt(3)/2])\n",
    "D = np.array([-100., 0.])\n",
    "B = np.array([50., 100*sqrt(3)/2])"
   ]
  },
  {
   "cell_type": "code",
   "execution_count": 306,
   "metadata": {},
   "outputs": [],
   "source": [
    "def get_next_A(a, v, angle=0.01, scale=0.7):\n",
    "    vprime = 2*a - v\n",
    "    diff = (vprime-a)\n",
    "    lendiff = np.sqrt(np.sum(diff**2))\n",
    "    if (lendiff > scale):\n",
    "        diff /= lendiff\n",
    "        diff *= scale\n",
    "        vprime = a + diff\n",
    "    return point_rotation(a, vprime, angle)"
   ]
  },
  {
   "cell_type": "code",
   "execution_count": 333,
   "metadata": {},
   "outputs": [],
   "source": [
    "# This is important if I want to not depend on the sort for distances\n",
    "# It's easier to define the points in \"nice\" locations and then rotate\n",
    "C = point_rotation(V, C, -0.01)\n",
    "B = point_rotation(V, B, -0.015)"
   ]
  },
  {
   "cell_type": "code",
   "execution_count": 308,
   "metadata": {},
   "outputs": [],
   "source": [
    "# Original version\n",
    "A = get_next_A(V, D, angle=0.04, scale=1.0)\n",
    "A1 = get_next_A(A, V)\n",
    "A2 = get_next_A(A1, A)\n",
    "A3 = get_next_A(A2, A1, angle=pi/18, scale=0.4)"
   ]
  },
  {
   "cell_type": "code",
   "execution_count": 334,
   "metadata": {},
   "outputs": [],
   "source": [
    "# Scaled version\n",
    "A = get_next_A(V, D, angle=0.04, scale=100.0)\n",
    "A1 = get_next_A(A, V, scale=70.)\n",
    "A2 = get_next_A(A1, A, scale=70.)\n",
    "A3 = get_next_A(A2, A1, angle=pi/18, scale=40.)"
   ]
  },
  {
   "cell_type": "code",
   "execution_count": 335,
   "metadata": {},
   "outputs": [],
   "source": [
    "# Original version\n",
    "T = -0.01\n",
    "B1 = get_next_A(B, C, angle=T, scale=0.7)\n",
    "B2 = get_next_A(B1, B, angle=T, scale=0.8)\n",
    "B3 = get_next_A(B2, B1, angle=T, scale=0.9)"
   ]
  },
  {
   "cell_type": "code",
   "execution_count": 336,
   "metadata": {},
   "outputs": [],
   "source": [
    "# Scaled version\n",
    "T = -0.01\n",
    "B1 = get_next_A(B, C, angle=T, scale=70.)\n",
    "B2 = get_next_A(B1, B, angle=T, scale=80.)\n",
    "B3 = get_next_A(B2, B1, angle=T, scale=90.)"
   ]
  },
  {
   "cell_type": "code",
   "execution_count": 337,
   "metadata": {},
   "outputs": [
    {
     "name": "stdout",
     "output_type": "stream",
     "text": [
      "Convex hull\n"
     ]
    },
    {
     "data": {
      "image/png": "[encoded data removed]",
      "text/plain": [
       "<PIL.Image.Image image mode=RGB size=300x300 at 0x7FDE58563748>"
      ]
     },
     "execution_count": 337,
     "metadata": {},
     "output_type": "execute_result"
    }
   ],
   "source": [
    "print('Convex hull')\n",
    "drawLineSegments([\n",
    "    [B3, A3],\n",
    "    [B3, B2], [B2, B1], [B1, B],\n",
    "    [A3, A2], [A2, A1], [A1, A],\n",
    "    [A, V], [B, C],\n",
    "    [C, D], [V, D]])"
   ]
  },
  {
   "cell_type": "code",
   "execution_count": 339,
   "metadata": {},
   "outputs": [
    {
     "name": "stdout",
     "output_type": "stream",
     "text": [
      "11\n",
      "-48.25806499350447 87.58515378237739\n",
      "-100.0 0.0\n",
      "278.6114863027456 20.99050464871304\n",
      "262.3556062275327 75.61730109106234\n",
      "239.70656668920972 11.694955721172022\n",
      "192.46145454090077 79.46536034295708\n",
      "169.83252889374543 7.497475267610899\n",
      "122.53231758155182 82.6142973255933\n",
      "99.9200106660978 3.998933418663416\n",
      "52.57518820490763 85.06379714789684\n",
      "0.0 0.0\n"
     ]
    }
   ],
   "source": [
    "# printing all points\n",
    "#all_points = [V, C, D, A, A1, A2, A3, B, B1, B2, B3]\n",
    "all_points = [C, D, A3, B3, A2, B2, A1, B1, A, B, V]\n",
    "print(len(all_points))\n",
    "for p in all_points:\n",
    "    print(p[0], p[1])"
   ]
  },
  {
   "cell_type": "code",
   "execution_count": 313,
   "metadata": {},
   "outputs": [],
   "source": [
    "def angle_between(A, P, B):\n",
    "    ap = np.sqrt(np.sum((A-P)**2))\n",
    "    pb = np.sqrt(np.sum((B-P)**2))\n",
    "    return math.acos(np.dot((A-P), (B-P))/(ap*pb))"
   ]
  },
  {
   "cell_type": "code",
   "execution_count": null,
   "metadata": {},
   "outputs": [],
   "source": []
  },
  {
   "cell_type": "code",
   "execution_count": 314,
   "metadata": {},
   "outputs": [],
   "source": [
    "def check_collinearity(points):\n",
    "    for a in range(len(points)):\n",
    "        for b in range(len(points)):\n",
    "            for c in range(len(points)):\n",
    "                if (a == b or b == c or a == c):\n",
    "                    continue\n",
    "                if (abs(angle_between(points[a], points[b], points[c])-pi)<0.000001):\n",
    "                    return True\n",
    "    return False"
   ]
  },
  {
   "cell_type": "code",
   "execution_count": 315,
   "metadata": {},
   "outputs": [
    {
     "name": "stdout",
     "output_type": "stream",
     "text": [
      "Are there three collinear points?\n"
     ]
    },
    {
     "data": {
      "text/plain": [
       "False"
      ]
     },
     "execution_count": 315,
     "metadata": {},
     "output_type": "execute_result"
    }
   ],
   "source": [
    "print('Are there three collinear points?')\n",
    "check_collinearity(all_points)"
   ]
  },
  {
   "cell_type": "code",
   "execution_count": 316,
   "metadata": {},
   "outputs": [],
   "source": [
    "def cross(A, B, C):\n",
    "    return ((A-B)[0]*(C-B)[1] - (A-B)[1]*(C-B)[0])"
   ]
  },
  {
   "cell_type": "code",
   "execution_count": 317,
   "metadata": {},
   "outputs": [],
   "source": [
    "def verify_hull(points, eps=0.001):\n",
    "    N = len(points)\n",
    "    for i in range(N):\n",
    "        if (cross(points[i], points[(i+1)%N], points[(i+2)%N]) < eps):\n",
    "            return False\n",
    "    return True"
   ]
  },
  {
   "cell_type": "code",
   "execution_count": 318,
   "metadata": {},
   "outputs": [
    {
     "data": {
      "text/plain": [
       "0.007090616762504064"
      ]
     },
     "execution_count": 318,
     "metadata": {},
     "output_type": "execute_result"
    }
   ],
   "source": [
    "cross(C, B, B1)"
   ]
  },
  {
   "cell_type": "code",
   "execution_count": 319,
   "metadata": {},
   "outputs": [
    {
     "data": {
      "text/plain": [
       "True"
      ]
     },
     "execution_count": 319,
     "metadata": {},
     "output_type": "execute_result"
    }
   ],
   "source": [
    "verify_hull([V, D, C, B, B1, B2, B3, A3, A2, A1, A])"
   ]
  },
  {
   "cell_type": "code",
   "execution_count": 320,
   "metadata": {},
   "outputs": [
    {
     "name": "stdout",
     "output_type": "stream",
     "text": [
      "angle (V, D, C)    = 1.0321975511965977\n",
      "angle (D, C, B)    = 2.0718951023931953\n",
      "angle (C, B, B1)   = 3.131592653589803\n",
      "angle (B, B1, B2)  = 3.131592653589792\n",
      "angle (B1, B2, B3) = 3.131592653589792\n",
      "angle (B2, B3, A3) = 1.9254153820011075\n",
      "angle (B3, A3, A2) = 1.5182101967881185\n",
      "angle (A3, A2, A1) = 2.9670597283903595\n",
      "angle (A2, A1, A)  = 3.131592653589792\n",
      "angle (A1, A, V)   = 3.131592653589803\n",
      "angle (A, V, D)    = 3.1015926535897926\n",
      "actual angle sum   =  28.274333882308152\n",
      "expected angle sum =  28.274333882308138\n"
     ]
    }
   ],
   "source": [
    "# yet another sanity check\n",
    "ang_sum = 0.0\n",
    "ppp = [V, D, C, B, B1, B2, B3, A3, A2, A1, A]\n",
    "for i in range(len(ppp)):\n",
    "    ang_sum += angle_between(ppp[i], ppp[(i+1)%11], ppp[(i+2)%11])\n",
    "\n",
    "print('angle (V, D, C)    =', angle_between(V, D, C))\n",
    "print('angle (D, C, B)    =', angle_between(D, C, B))\n",
    "print('angle (C, B, B1)   =', angle_between(C, B, B1))\n",
    "print('angle (B, B1, B2)  =', angle_between(B, B1, B2))\n",
    "print('angle (B1, B2, B3) =', angle_between(B1, B2, B3))\n",
    "print('angle (B2, B3, A3) =', angle_between(B2, B3, A3))\n",
    "print('angle (B3, A3, A2) =', angle_between(B3, A3, A2))\n",
    "print('angle (A3, A2, A1) =', angle_between(A3, A2, A1))\n",
    "print('angle (A2, A1, A)  =', angle_between(A2, A1, A))\n",
    "print('angle (A1, A, V)   =', angle_between(A1, A, V))\n",
    "print('angle (A, V, D)    =', angle_between(A, V, D))\n",
    "\n",
    "print('actual angle sum   = ', ang_sum)\n",
    "print('expected angle sum = ', (len(all_points)-2)*pi)"
   ]
  },
  {
   "cell_type": "code",
   "execution_count": 321,
   "metadata": {},
   "outputs": [
    {
     "data": {
      "text/plain": [
       "0.7984576409368045"
      ]
     },
     "execution_count": 321,
     "metadata": {},
     "output_type": "execute_result"
    }
   ],
   "source": [
    "point_dist(A2, B2)"
   ]
  },
  {
   "cell_type": "code",
   "execution_count": 322,
   "metadata": {},
   "outputs": [
    {
     "data": {
      "text/plain": [
       "0.5339288642043186"
      ]
     },
     "execution_count": 322,
     "metadata": {},
     "output_type": "execute_result"
    }
   ],
   "source": [
    "point_dist(A3, B3)"
   ]
  },
  {
   "cell_type": "code",
   "execution_count": 323,
   "metadata": {},
   "outputs": [
    {
     "data": {
      "text/plain": [
       "0.7000000000000004"
      ]
     },
     "execution_count": 323,
     "metadata": {},
     "output_type": "execute_result"
    }
   ],
   "source": [
    "point_dist(B3, B2)"
   ]
  },
  {
   "cell_type": "code",
   "execution_count": 330,
   "metadata": {},
   "outputs": [
    {
     "data": {
      "text/plain": [
       "0.7"
      ]
     },
     "execution_count": 330,
     "metadata": {},
     "output_type": "execute_result"
    }
   ],
   "source": [
    "point_dist(A, A1)"
   ]
  },
  {
   "cell_type": "markdown",
   "metadata": {},
   "source": [
    "### Another counter-example\n",
    "This is the part where I try to build a graph that is not planar"
   ]
  },
  {
   "cell_type": "code",
   "execution_count": 350,
   "metadata": {},
   "outputs": [],
   "source": [
    "# reflect around the Y axis\n",
    "def refY(P):\n",
    "    return P * [-1, 1]"
   ]
  },
  {
   "cell_type": "code",
   "execution_count": 373,
   "metadata": {},
   "outputs": [],
   "source": [
    "A = np.array([100., 0])\n",
    "B = np.array([50., 100*sqrt(3)/2])\n",
    "C = refY(B)\n",
    "D = refY(A)"
   ]
  },
  {
   "cell_type": "code",
   "execution_count": 374,
   "metadata": {},
   "outputs": [],
   "source": [
    "# Scaled version\n",
    "A1 = get_next_A(A, V, scale=80.)\n",
    "A2 = get_next_A(A1, A, scale=80.)\n",
    "A3 = get_next_A(A2, A1, angle=pi/18, scale=50.)"
   ]
  },
  {
   "cell_type": "code",
   "execution_count": 375,
   "metadata": {},
   "outputs": [
    {
     "ename": "SyntaxError",
     "evalue": "invalid syntax (<ipython-input-375-2e2cba0eb828>, line 3)",
     "output_type": "error",
     "traceback": [
      "\u001b[0;36m  File \u001b[0;32m\"<ipython-input-375-2e2cba0eb828>\"\u001b[0;36m, line \u001b[0;32m3\u001b[0m\n\u001b[0;31m    point_dist()B2, B3\u001b[0m\n\u001b[0m                 ^\u001b[0m\n\u001b[0;31mSyntaxError\u001b[0m\u001b[0;31m:\u001b[0m invalid syntax\n"
     ]
    }
   ],
   "source": [
    "# Scaled version\n",
    "T = -0.01\n",
    "B1 = get_next_A(B, C, angle=T, scale=80.)\n",
    "B2 = get_next_A(B1, B, angle=T, scale=80.)\n",
    "B3 = get_next_A(B2, B1, angle=T, scale=90.)"
   ]
  },
  {
   "cell_type": "code",
   "execution_count": 376,
   "metadata": {},
   "outputs": [],
   "source": [
    "# Reflect points\n",
    "C1 = refY(B1)\n",
    "C2 = refY(B2)\n",
    "C3 = refY(B3)\n",
    "D1 = refY(A1)\n",
    "D2 = refY(A2)\n",
    "D3 = refY(A3)"
   ]
  },
  {
   "cell_type": "code",
   "execution_count": 371,
   "metadata": {},
   "outputs": [
    {
     "name": "stdout",
     "output_type": "stream",
     "text": [
      "Interesting parts\n"
     ]
    },
    {
     "data": {
      "image/png": "[encoded data removed]",
      "text/plain": [
       "<PIL.Image.Image image mode=RGB size=300x300 at 0x7FDE59453DA0>"
      ]
     },
     "execution_count": 371,
     "metadata": {},
     "output_type": "execute_result"
    }
   ],
   "source": [
    "print('Interesting parts')\n",
    "drawLineSegments([\n",
    "    [A, A1], [A1, A2], [A2, A3],\n",
    "    [B, B1], [B1, B2], [B2, B3], [B3, A3],\n",
    "    [C, C1], [C1, C2], [C2, C3], [C3, D3],\n",
    "    [D, D1], [D1, D2], [D2, D3],\n",
    "    [A, B],\n",
    "    [C, D],\n",
    "    [B, C],\n",
    "    [D, A]])"
   ]
  },
  {
   "cell_type": "code",
   "execution_count": 367,
   "metadata": {},
   "outputs": [
    {
     "data": {
      "text/plain": [
       "True"
      ]
     },
     "execution_count": 367,
     "metadata": {},
     "output_type": "execute_result"
    }
   ],
   "source": [
    "verify_hull([D, D1, D2, D3, C3, C2, C1, C, B, B1, B2, B3, A3, A2, A1, A])"
   ]
  },
  {
   "cell_type": "code",
   "execution_count": 372,
   "metadata": {},
   "outputs": [
    {
     "data": {
      "text/plain": [
       "80.00000000000003"
      ]
     },
     "execution_count": 372,
     "metadata": {},
     "output_type": "execute_result"
    }
   ],
   "source": [
    "point_dist(B2, B3)"
   ]
  },
  {
   "cell_type": "code",
   "execution_count": 368,
   "metadata": {},
   "outputs": [
    {
     "name": "stdout",
     "output_type": "stream",
     "text": [
      "16\n",
      "-100.0 0.0\n",
      "-169.99650002916655 0.6999883333916666\n",
      "-239.98250049582697 2.099895001924982\n",
      "-279.2280231358205 9.832226649866485\n",
      "-259.9510028582562 82.40296036234417\n",
      "-189.98250049582703 84.50264537651887\n",
      "-119.99650002916657 85.90255204505219\n",
      "-50.0 86.60254037844386\n",
      "50.0 86.60254037844386\n",
      "119.99650002916657 85.90255204505219\n",
      "189.98250049582703 84.50264537651887\n",
      "259.9510028582562 82.40296036234417\n",
      "279.2280231358205 9.832226649866485\n",
      "239.98250049582697 2.099895001924982\n",
      "169.99650002916655 0.6999883333916666\n",
      "100.0 0.0\n"
     ]
    }
   ],
   "source": [
    "# printing all points\n",
    "all_points = [D, D1, D2, D3, C3, C2, C1, C, B, B1, B2, B3, A3, A2, A1, A]\n",
    "print(len(all_points))\n",
    "for p in all_points:\n",
    "    print(p[0], p[1])"
   ]
  },
  {
   "cell_type": "code",
   "execution_count": 369,
   "metadata": {},
   "outputs": [
    {
     "name": "stdout",
     "output_type": "stream",
     "text": [
      "N = 16\n",
      "Planarity: PLANAR\n",
      "Max degree: 2\n",
      "Stretch: 5.15087\n",
      "\n"
     ]
    },
    {
     "data": {
      "image/png": "[encoded data removed]",
      "text/plain": [
       "<PIL.Image.Image image mode=RGB size=300x300 at 0x7FDE5853F898>"
      ]
     },
     "execution_count": 369,
     "metadata": {},
     "output_type": "execute_result"
    }
   ],
   "source": [
    "get_and_draw_from_file('../pointsets/hand/014.txt')"
   ]
  },
  {
   "cell_type": "code",
   "execution_count": null,
   "metadata": {},
   "outputs": [],
   "source": []
  }
 ],
 "metadata": {
  "kernelspec": {
   "display_name": "Python 3",
   "language": "python",
   "name": "python3"
  },
  "language_info": {
   "codemirror_mode": {
    "name": "ipython",
    "version": 3
   },
   "file_extension": ".py",
   "mimetype": "text/x-python",
   "name": "python",
   "nbconvert_exporter": "python",
   "pygments_lexer": "ipython3",
   "version": "3.7.2"
  }
 },
 "nbformat": 4,
 "nbformat_minor": 2
}
