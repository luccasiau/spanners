{
 "cells": [
  {
   "cell_type": "code",
   "execution_count": 1,
   "metadata": {},
   "outputs": [],
   "source": [
    "import turtle\n",
    "import numpy as np\n",
    "import os\n",
    "import time\n",
    "import math\n",
    "from math import pi\n",
    "import subprocess\n",
    "from PIL import Image, ImageDraw\n",
    "from scipy.spatial import ConvexHull, convex_hull_plot_2d"
   ]
  },
  {
   "cell_type": "code",
   "execution_count": 2,
   "metadata": {},
   "outputs": [],
   "source": [
    "def __deprecated_drawLineSegments(segments, img_w=300, img_h=300, draw_size=250):\n",
    "    minX = (img_w - draw_size)/2\n",
    "    minY = abs((img_h - draw_size)/2)\n",
    "    minX = 10\n",
    "    minY = 10\n",
    "    \n",
    "    span = np.max(segments) - np.min(segments)\n",
    "    ratio = draw_size/span\n",
    "    shift = -np.min(segments)\n",
    "    \n",
    "    shiftX = -float('inf')\n",
    "    shiftY = -float('inf')\n",
    "    for segment in segments:\n",
    "        shiftX = max(shiftX, -float(segment[0][0]), -float(segment[1][0]))\n",
    "        shiftY = max(shiftY, -float(segment[0][1]), -float(segment[1][1]))\n",
    "    \n",
    "    qx = lambda v : (v + shiftX) * ratio + minX\n",
    "    qy = lambda v : (v + shiftY) * ratio + minY\n",
    "    \n",
    "    img = Image.new('RGB', (img_w, img_h), (255, 255, 255))\n",
    "    draw = ImageDraw.Draw(img)\n",
    "    \n",
    "    for segment in segments:\n",
    "        draw.line((qx(segment[0][0]), qy(segment[0][1]), qx(segment[1][0]), qy(segment[1][1])), fill=256)\n",
    "        \n",
    "    return img"
   ]
  },
  {
   "cell_type": "code",
   "execution_count": 3,
   "metadata": {},
   "outputs": [],
   "source": [
    "def draw_point(draw, p, r=2.5):\n",
    "    box = [p[0]-r, p[1]-r, p[0]+r, p[1]+r]\n",
    "    draw.ellipse(xy=box, fill='red', outline='red')"
   ]
  },
  {
   "cell_type": "code",
   "execution_count": 4,
   "metadata": {},
   "outputs": [],
   "source": [
    "def draw_line_segments(segments, img_w=300, img_h=300, margin=50):\n",
    "    minX = 10\n",
    "    minY = 10\n",
    "\n",
    "    all_x_c = [x[0][0] for x in segments]\n",
    "    all_x_c.extend([x[1][0] for x in segments])\n",
    "    all_x_c = np.array(all_x_c)\n",
    "    \n",
    "    all_y_c = [x[0][1] for x in segments]\n",
    "    all_y_c.extend([x[1][1] for x in segments])\n",
    "    all_y_c = np.array(all_y_c)\n",
    "    \n",
    "    span = np.max(segments) - np.min(segments)\n",
    "    ratio = (max(img_w, img_h)-margin)/span\n",
    "    shiftX = -np.min(all_x_c)\n",
    "    shiftY = -np.min(all_y_c)\n",
    "    \n",
    "    qx = lambda v : (v + shiftX) * ratio + minX\n",
    "    qy = lambda v : (v + shiftY) * ratio + minY\n",
    "    \n",
    "    img = Image.new('RGB', (img_w, img_h), (255, 255, 255))\n",
    "    draw = ImageDraw.Draw(img)\n",
    "    \n",
    "    for segment in segments:\n",
    "        draw.line((qx(segment[0][0]), qy(segment[0][1]), qx(segment[1][0]), qy(segment[1][1])), fill=256)\n",
    "    for segment in segments:\n",
    "        draw_point(draw, [qx(segment[0][0]), qy(segment[0][1])])\n",
    "        draw_point(draw, [qx(segment[1][0]), qy(segment[1][1])])\n",
    "        \n",
    "    return img"
   ]
  },
  {
   "cell_type": "code",
   "execution_count": 5,
   "metadata": {},
   "outputs": [],
   "source": [
    "#TODO and reflect: Maybe these lines info shouldn't be hardcoded\n",
    "def getSegmentsFromFile(file_path):\n",
    "    file = open(file_path, 'r')\n",
    "    lines = file.readlines()\n",
    "    \n",
    "    n = int(lines[0])\n",
    "    print('N =', n)\n",
    "    print(lines[1] + lines[2] + lines[3])\n",
    "    \n",
    "    parseLine = lambda ln : [[float(ln.split()[0]), float(ln.split()[1])],\\\n",
    "                             [float(ln.split()[2]), float(ln.split()[3])]]\n",
    "    segments = [parseLine(ln) for ln in lines[4:]]\n",
    "    \n",
    "    return segments"
   ]
  },
  {
   "cell_type": "code",
   "execution_count": 6,
   "metadata": {},
   "outputs": [],
   "source": [
    "def get_and_draw_from_file(file_name, img_w=300, img_h=300):\n",
    "    # subprocess.check_call(['./printout_path_greedy_test', '<', file_name, '>', 'temp_file.out'])\n",
    "    #output = subprocess.check_output(['./printout_path_greedy_test', '<', file_name]).decode('utf-8')\n",
    "    os.system('./printout_path_greedy_test < ' + file_name + ' > temp_file.out')\n",
    "    time.sleep(0.5)  # Super hacky please fix this\n",
    "    ret = draw_line_segments(getSegmentsFromFile('temp_file.out'), img_w, img_h)\n",
    "    subprocess.check_call(['rm', 'temp_file.out'])\n",
    "    return ret"
   ]
  },
  {
   "cell_type": "code",
   "execution_count": 7,
   "metadata": {},
   "outputs": [
    {
     "name": "stdout",
     "output_type": "stream",
     "text": [
      "N = 11\n",
      "Planarity: PLANAR\n",
      "Max degree: 4\n",
      "Stretch: 3.45837\n",
      "\n"
     ]
    },
    {
     "data": {
      "image/png": "[encoded data removed]",
      "text/plain": [
       "<PIL.Image.Image image mode=RGB size=800x200 at 0x7FAC4BA41C50>"
      ]
     },
     "execution_count": 7,
     "metadata": {},
     "output_type": "execute_result"
    }
   ],
   "source": [
    "get_and_draw_from_file('../pointsets/hand/013.txt', img_w=800, img_h=200)"
   ]
  },
  {
   "cell_type": "markdown",
   "metadata": {},
   "source": [
    "### Lots of helper functions for counter-example creation"
   ]
  },
  {
   "cell_type": "code",
   "execution_count": 8,
   "metadata": {},
   "outputs": [],
   "source": [
    "# Rotate point P around pivot A by angle theta\n",
    "def point_rotation(P, A, theta):\n",
    "    sin_t = np.sin(theta)\n",
    "    cos_t = np.cos(theta)\n",
    "    \n",
    "    NP = A - P\n",
    "    NP = np.array([NP[0] * cos_t - NP[1] * sin_t, NP[0] * sin_t + NP[1] * cos_t])\n",
    "    NP = NP + P\n",
    "    return NP\n",
    "\n",
    "# distance between two points\n",
    "def point_dist(A, B):\n",
    "    return np.sqrt(np.sum((B-A)**2))\n",
    "\n",
    "def get_next_A(a, v, angle=0.01, scale=0.7):\n",
    "    vprime = 2*a - v\n",
    "    diff = (vprime-a)\n",
    "    lendiff = np.sqrt(np.sum(diff**2))\n",
    "    if (lendiff > scale):\n",
    "        diff /= lendiff\n",
    "        diff *= scale\n",
    "        vprime = a + diff\n",
    "    return point_rotation(a, vprime, angle)\n",
    "\n",
    "def angle_between(A, P, B):\n",
    "    ap = np.sqrt(np.sum((A-P)**2))\n",
    "    pb = np.sqrt(np.sum((B-P)**2))\n",
    "    return math.acos(np.dot((A-P), (B-P))/(ap*pb))\n",
    "\n",
    "# reflect around the Y axis\n",
    "def refY(P):\n",
    "    return P * [-1, 1]\n",
    "\n",
    "def check_collinearity(points):\n",
    "    for a in range(len(points)):\n",
    "        for b in range(len(points)):\n",
    "            for c in range(len(points)):\n",
    "                if (a == b or b == c or a == c):\n",
    "                    continue\n",
    "                if (abs(angle_between(points[a], points[b], points[c])-pi)<0.000001):\n",
    "                    return True\n",
    "    return False\n",
    "\n",
    "def are_convex(points):\n",
    "    return len(points) == len(ConvexHull(points).vertices)"
   ]
  },
  {
   "cell_type": "code",
   "execution_count": 9,
   "metadata": {},
   "outputs": [],
   "source": [
    "def path_length(points):\n",
    "    p = 0.\n",
    "    for i in range(1, len(points)):\n",
    "        p += point_dist(points[i-1], points[i])\n",
    "    return p"
   ]
  },
  {
   "cell_type": "code",
   "execution_count": 10,
   "metadata": {},
   "outputs": [],
   "source": [
    "def max_length_in_path(points):\n",
    "    p = 0.\n",
    "    for i in range(1, len(points)):\n",
    "        p = max(p, point_dist(points[i-1], points[i]))\n",
    "    return p"
   ]
  },
  {
   "cell_type": "code",
   "execution_count": 11,
   "metadata": {},
   "outputs": [],
   "source": [
    "def print_points(all_points):\n",
    "    print(len(all_points))\n",
    "    for p in all_points:\n",
    "        print(p[0], p[1])"
   ]
  },
  {
   "cell_type": "code",
   "execution_count": 12,
   "metadata": {},
   "outputs": [],
   "source": [
    "def min_all_pairs(all_points):\n",
    "    return min([\n",
    "        point_dist(all_points[i], all_points[j])\n",
    "        for i in range(len(all_points))\n",
    "        for j in range(i+1, len(all_points))\n",
    "    ])"
   ]
  },
  {
   "cell_type": "markdown",
   "metadata": {},
   "source": [
    "### Counter-example construction for degree 5\n",
    "\n",
    "update: Ended up proving none exist"
   ]
  },
  {
   "cell_type": "code",
   "execution_count": 13,
   "metadata": {},
   "outputs": [],
   "source": [
    "eps = 0.001\n",
    "V = np.array([0., 0.])\n",
    "A = get_next_A(V, np.array([-100., 0.]), angle=eps/2, scale=10000.)\n",
    "B = .00010*point_rotation(V, A, pi/6 - eps)  \n",
    "C = np.array([0., B[1]+0.000001])\n",
    "D = refY(B)\n",
    "E = refY(A)"
   ]
  },
  {
   "cell_type": "code",
   "execution_count": 14,
   "metadata": {},
   "outputs": [
    {
     "data": {
      "image/png": "[encoded data removed]",
      "text/plain": [
       "<PIL.Image.Image image mode=RGB size=900x50 at 0x7FEA8126B6A0>"
      ]
     },
     "execution_count": 14,
     "metadata": {},
     "output_type": "execute_result"
    }
   ],
   "source": [
    "draw_line_segments([[V, A], [A, B], [B, V], [V, C], [C, D], [D, E], [V, E]], img_w=900, img_h=50)"
   ]
  },
  {
   "cell_type": "code",
   "execution_count": 15,
   "metadata": {},
   "outputs": [
    {
     "data": {
      "text/plain": [
       "(array([9.99999875e+01, 4.99999979e-02]),\n",
       " array([0.00866275, 0.00499567]),\n",
       " array([0.        , 0.00499667]),\n",
       " array([-0.00866275,  0.00499567]))"
      ]
     },
     "execution_count": 15,
     "metadata": {},
     "output_type": "execute_result"
    }
   ],
   "source": [
    "A, B, C, D"
   ]
  },
  {
   "cell_type": "code",
   "execution_count": 16,
   "metadata": {},
   "outputs": [
    {
     "data": {
      "text/plain": [
       "False"
      ]
     },
     "execution_count": 16,
     "metadata": {},
     "output_type": "execute_result"
    }
   ],
   "source": [
    "are_convex([V, C, A, B, D, E])"
   ]
  },
  {
   "cell_type": "code",
   "execution_count": 17,
   "metadata": {},
   "outputs": [
    {
     "data": {
      "text/plain": [
       "(100.0, 99.99133487487114, 0.01)"
      ]
     },
     "execution_count": 17,
     "metadata": {},
     "output_type": "execute_result"
    }
   ],
   "source": [
    "point_dist(V, A), point_dist(A, B), point_dist(B, V)"
   ]
  },
  {
   "cell_type": "code",
   "execution_count": 18,
   "metadata": {},
   "outputs": [
    {
     "name": "stdout",
     "output_type": "stream",
     "text": [
      "max allowed difference 0.0016035951947477299\n",
      "actual difference 0.008665125128857198\n"
     ]
    }
   ],
   "source": [
    "print('max allowed difference', point_dist(B, V)*3/(5*math.pi+3))\n",
    "print('actual difference', point_dist(V, A) - point_dist(A, B))"
   ]
  },
  {
   "cell_type": "code",
   "execution_count": 19,
   "metadata": {},
   "outputs": [
    {
     "data": {
      "text/plain": [
       "(4.9917695673335436e-05, 0.5225987755982987, 2.618943960293569)"
      ]
     },
     "execution_count": 19,
     "metadata": {},
     "output_type": "execute_result"
    }
   ],
   "source": [
    "angle_between(V, A, B), angle_between(B, V, A), angle_between(A, B, V)"
   ]
  },
  {
   "cell_type": "code",
   "execution_count": 20,
   "metadata": {},
   "outputs": [
    {
     "data": {
      "text/plain": [
       "(0.001000000000000112, -0.0009500823020744953)"
      ]
     },
     "execution_count": 20,
     "metadata": {},
     "output_type": "execute_result"
    }
   ],
   "source": [
    "math.pi/6-angle_between(B,V,A), 5*math.pi/6-angle_between(A, B, V)"
   ]
  },
  {
   "cell_type": "code",
   "execution_count": 21,
   "metadata": {},
   "outputs": [],
   "source": [
    "#beg_r=0.00001\n",
    "#end_r=0.1\n",
    "#for _ in range(5000):\n",
    "#    mid = (beg_r+end_r)/2.\n",
    "#    B = mid*point_rotation(V, A, pi/6 - eps) \n",
    "#    if (5*math.pi/6-angle_between(A, B, V) < .8*eps):\n",
    "#        beg_r = mid\n",
    "#    elif (5*math.pi/6-angle_between(A, B, V) > 1.2*eps):\n",
    "#        end_r = mid\n",
    "#beg_r, end_r"
   ]
  },
  {
   "cell_type": "code",
   "execution_count": 22,
   "metadata": {},
   "outputs": [
    {
     "name": "stdout",
     "output_type": "stream",
     "text": [
      "min_p = 518.8690204786391\n",
      "max_p = 518.8340589622472\n"
     ]
    }
   ],
   "source": [
    "max_p = (3+4*math.pi)/3.*point_dist(A, B)\n",
    "min_p = (3+4*math.pi)/3.*point_dist(A, V) - point_dist(V, B)\n",
    "print('min_p =', min_p)\n",
    "print('max_p =', max_p)"
   ]
  },
  {
   "cell_type": "code",
   "execution_count": 23,
   "metadata": {},
   "outputs": [
    {
     "data": {
      "text/plain": [
       "4.9917695673335436e-05"
      ]
     },
     "execution_count": 23,
     "metadata": {},
     "output_type": "execute_result"
    }
   ],
   "source": [
    "angle_between(V, A, B)"
   ]
  },
  {
   "cell_type": "code",
   "execution_count": 24,
   "metadata": {},
   "outputs": [
    {
     "data": {
      "text/plain": [
       "False"
      ]
     },
     "execution_count": 24,
     "metadata": {},
     "output_type": "execute_result"
    }
   ],
   "source": [
    "check_collinearity([V, A, B, C, D, E])"
   ]
  },
  {
   "cell_type": "code",
   "execution_count": 25,
   "metadata": {},
   "outputs": [
    {
     "data": {
      "text/plain": [
       "99.99133487487114"
      ]
     },
     "execution_count": 25,
     "metadata": {},
     "output_type": "execute_result"
    }
   ],
   "source": [
    "point_dist(A, B)"
   ]
  },
  {
   "cell_type": "code",
   "execution_count": 26,
   "metadata": {},
   "outputs": [],
   "source": [
    "# Generating A-path\n",
    "A1 = get_next_A(A, V, scale=30.)\n",
    "A2 = get_next_A(A1, A, scale=30.)\n",
    "A3 = get_next_A(A2, A1, scale=30.)\n",
    "A4 = get_next_A(A3, A2, scale=30.)\n",
    "A5 = get_next_A(A4, A3, scale=30.)\n",
    "A6 = get_next_A(A5, A4, scale=30.)\n",
    "A7 = get_next_A(A6, A5, scale=30.)"
   ]
  },
  {
   "cell_type": "code",
   "execution_count": 27,
   "metadata": {},
   "outputs": [],
   "source": [
    "# Generating B-path\n",
    "B1 = get_next_A(B, C, angle=-eps, scale=30.)\n",
    "B2 = get_next_A(B1, B, angle=-eps, scale=30.)\n",
    "B3 = get_next_A(B2, B1, angle=-eps, scale=30.)\n",
    "B4 = get_next_A(B3, B2, angle=-eps, scale=30.)\n",
    "B5 = get_next_A(B4, B3, angle=-eps, scale=30.)\n",
    "B6 = get_next_A(B5, B4, angle=-eps, scale=30.)\n",
    "B7 = get_next_A(B6, B5, angle=-eps, scale=30.)"
   ]
  },
  {
   "cell_type": "code",
   "execution_count": 28,
   "metadata": {},
   "outputs": [
    {
     "data": {
      "text/plain": [
       "519.8950482107996"
      ]
     },
     "execution_count": 28,
     "metadata": {},
     "output_type": "execute_result"
    }
   ],
   "source": [
    "path_length([A, A1, A2, A3, A4, A5, A6, A7, B7, B6, B5, B4, B3, B2, B1, B])"
   ]
  },
  {
   "cell_type": "code",
   "execution_count": 29,
   "metadata": {},
   "outputs": [
    {
     "data": {
      "text/plain": [
       "309.83440893970914"
      ]
     },
     "execution_count": 29,
     "metadata": {},
     "output_type": "execute_result"
    }
   ],
   "source": [
    "max_length_in_path([A, A1, A2, A3, A4, A5, A6, A7, B7, B6, B5, B4, B3, B2, B1, B])"
   ]
  },
  {
   "cell_type": "code",
   "execution_count": 30,
   "metadata": {},
   "outputs": [
    {
     "data": {
      "text/plain": [
       "99.99133487487114"
      ]
     },
     "execution_count": 30,
     "metadata": {},
     "output_type": "execute_result"
    }
   ],
   "source": [
    "point_dist(A, B)"
   ]
  },
  {
   "cell_type": "code",
   "execution_count": 31,
   "metadata": {},
   "outputs": [
    {
     "data": {
      "text/plain": [
       "0.008662753012926856"
      ]
     },
     "execution_count": 31,
     "metadata": {},
     "output_type": "execute_result"
    }
   ],
   "source": [
    "min_all_pairs([A, A1, A2, A3, A4, A5, A6, A7, B7, B6, B5, B4, B3, B2, B1, B])"
   ]
  },
  {
   "cell_type": "code",
   "execution_count": 32,
   "metadata": {},
   "outputs": [],
   "source": [
    "# reflecting A-path to get E-path\n",
    "E1 = refY(A1)\n",
    "E2 = refY(A2)\n",
    "E3 = refY(A3)\n",
    "E4 = refY(A4)\n",
    "E5 = refY(A5)\n",
    "E6 = refY(A6)\n",
    "E7 = refY(A7)"
   ]
  },
  {
   "cell_type": "code",
   "execution_count": 33,
   "metadata": {},
   "outputs": [],
   "source": [
    "# reflecting B-path to get D-path\n",
    "D1 = refY(B1)\n",
    "D2 = refY(B2)\n",
    "D3 = refY(B3)\n",
    "D4 = refY(B4)\n",
    "D5 = refY(B5)\n",
    "D6 = refY(B6)\n",
    "D7 = refY(B7)"
   ]
  },
  {
   "cell_type": "code",
   "execution_count": 34,
   "metadata": {},
   "outputs": [
    {
     "data": {
      "text/plain": [
       "519.8950482107997"
      ]
     },
     "execution_count": 34,
     "metadata": {},
     "output_type": "execute_result"
    }
   ],
   "source": [
    "path_length([D, D1, D2, D3, D4, D5, D6, D7, E7, E6, E5, E4, E3, E2, E1, E])"
   ]
  },
  {
   "cell_type": "code",
   "execution_count": 35,
   "metadata": {},
   "outputs": [
    {
     "data": {
      "text/plain": [
       "309.83440893970914"
      ]
     },
     "execution_count": 35,
     "metadata": {},
     "output_type": "execute_result"
    }
   ],
   "source": [
    "max_length_in_path([D, D1, D2, D3, D4, D5, D6, D7, E7, E6, E5, E4, E3, E2, E1, E])"
   ]
  },
  {
   "cell_type": "code",
   "execution_count": 36,
   "metadata": {},
   "outputs": [
    {
     "name": "stdout",
     "output_type": "stream",
     "text": [
      "Interesting points\n"
     ]
    },
    {
     "data": {
      "image/png": "[encoded data removed]",
      "text/plain": [
       "<PIL.Image.Image image mode=RGB size=300x300 at 0x7FEA812B9630>"
      ]
     },
     "execution_count": 36,
     "metadata": {},
     "output_type": "execute_result"
    }
   ],
   "source": [
    "print('Interesting points')\n",
    "draw_line_segments([\n",
    "    [V, A], [A, B], [B, V], [B, C], [V, C],\n",
    "    [C, D], [D, E], [E, V], [V, D],\n",
    "    [A, A1], [A1, A2], [A2, A3], [A3, A4], [A4, A5], [A5, A6], [A6, A7],\n",
    "    [B, B1], [B1, B2], [B2, B3], [B3, B4], [B4, B5], [B5, B6], [B6, B7],\n",
    "    [A7, B7],\n",
    "    [E, E1], [E1, E2], [E2, E3], [E3, E4], [E4, E5], [E5, E6], [E6, E7],\n",
    "    [D, D1], [D1, D2], [D2, D3], [D3, D4], [D4, D5], [D5, D6], [D6, D7],\n",
    "    [D7, E7]\n",
    "])"
   ]
  },
  {
   "cell_type": "code",
   "execution_count": 37,
   "metadata": {},
   "outputs": [
    {
     "name": "stdout",
     "output_type": "stream",
     "text": [
      "34\n",
      "99.99998750000026 0.04999999791666669\n",
      "129.99833376519402 0.3649942098235735\n",
      "159.9920302359535 0.9799511351036907\n",
      "189.9780775676263 1.8948092785769528\n",
      "219.9534771804675 3.1094771551913913\n",
      "249.91523155949528 4.623833299171565\n",
      "279.86034455423976 6.437726276165035\n",
      "309.78582167835566 8.550974698385675\n",
      "0.06930138925077949 0.004746113367346439\n",
      "0.0606388555320946 0.004807752118313501\n",
      "0.051976264505935524 0.00486072830618626\n",
      "0.04331362483489255 0.004905041877988534\n",
      "0.03465094518160464 0.004940692789406754\n",
      "0.02598823420875071 0.004967681004790013\n",
      "0.017325500579041024 0.004986006497150096\n",
      "0.008662752955208488 0.0049956692481615125\n",
      "0.0 0.004996669248161513\n",
      "-0.008662752955208488 0.0049956692481615125\n",
      "-0.017325500579041024 0.004986006497150096\n",
      "-0.02598823420875071 0.004967681004790013\n",
      "-0.03465094518160464 0.004940692789406754\n",
      "-0.04331362483489255 0.004905041877988534\n",
      "-0.051976264505935524 0.00486072830618626\n",
      "-0.0606388555320946 0.004807752118313501\n",
      "-0.06930138925077949 0.004746113367346439\n",
      "-309.78582167835566 8.550974698385675\n",
      "-279.86034455423976 6.437726276165035\n",
      "-249.91523155949528 4.623833299171565\n",
      "-219.9534771804675 3.1094771551913913\n",
      "-189.9780775676263 1.8948092785769528\n",
      "-159.9920302359535 0.9799511351036907\n",
      "-129.99833376519402 0.3649942098235735\n",
      "-99.99998750000026 0.04999999791666669\n",
      "0.0 0.0\n"
     ]
    }
   ],
   "source": [
    "print_points([A, A1, A2, A3, A4, A5, A6, A7,\n",
    "              B7, B6, B5, B4, B3, B2, B1, B, C,\n",
    "              D, D1, D2, D3, D4, D5, D6, D7,\n",
    "              E7, E6, E5, E4, E3, E2, E1, E, V])"
   ]
  },
  {
   "cell_type": "code",
   "execution_count": 38,
   "metadata": {},
   "outputs": [
    {
     "name": "stdout",
     "output_type": "stream",
     "text": [
      "N = 34\n",
      "Planarity: PLANAR\n",
      "Max degree: 3\n",
      "Stretch: 4.97996\n",
      "\n"
     ]
    },
    {
     "data": {
      "image/png": "[encoded data removed]",
      "text/plain": [
       "<PIL.Image.Image image mode=RGB size=800x200 at 0x7FEA81131D30>"
      ]
     },
     "execution_count": 38,
     "metadata": {},
     "output_type": "execute_result"
    }
   ],
   "source": [
    "get_and_draw_from_file('../pointsets/hand/018.txt', img_w=800, img_h=200)"
   ]
  },
  {
   "cell_type": "code",
   "execution_count": 39,
   "metadata": {},
   "outputs": [
    {
     "data": {
      "text/plain": [
       "159.96901320705751"
      ]
     },
     "execution_count": 39,
     "metadata": {},
     "output_type": "execute_result"
    }
   ],
   "source": [
    "point_dist(A2, B2)"
   ]
  },
  {
   "cell_type": "markdown",
   "metadata": {},
   "source": [
    "#### Looking for the right angles"
   ]
  },
  {
   "cell_type": "code",
   "execution_count": 40,
   "metadata": {},
   "outputs": [
    {
     "ename": "KeyboardInterrupt",
     "evalue": "",
     "output_type": "error",
     "traceback": [
      "\u001b[0;31m---------------------------------------------------------------------------\u001b[0m",
      "\u001b[0;31mKeyboardInterrupt\u001b[0m                         Traceback (most recent call last)",
      "\u001b[0;32m<ipython-input-40-2257c40e95dc>\u001b[0m in \u001b[0;36m<module>\u001b[0;34m()\u001b[0m\n\u001b[1;32m      8\u001b[0m \u001b[0;32mfor\u001b[0m \u001b[0malpha\u001b[0m \u001b[0;32min\u001b[0m \u001b[0mnp\u001b[0m\u001b[0;34m.\u001b[0m\u001b[0marange\u001b[0m\u001b[0;34m(\u001b[0m\u001b[0mstep\u001b[0m\u001b[0;34m,\u001b[0m \u001b[0mpi\u001b[0m\u001b[0;34m,\u001b[0m \u001b[0mstep\u001b[0m\u001b[0;34m)\u001b[0m\u001b[0;34m:\u001b[0m\u001b[0;34m\u001b[0m\u001b[0;34m\u001b[0m\u001b[0m\n\u001b[1;32m      9\u001b[0m     \u001b[0;32mfor\u001b[0m \u001b[0mbeta\u001b[0m \u001b[0;32min\u001b[0m \u001b[0mnp\u001b[0m\u001b[0;34m.\u001b[0m\u001b[0marange\u001b[0m\u001b[0;34m(\u001b[0m\u001b[0mmax\u001b[0m\u001b[0;34m(\u001b[0m\u001b[0;36m3\u001b[0m\u001b[0;34m*\u001b[0m\u001b[0mpi\u001b[0m\u001b[0;34m/\u001b[0m\u001b[0;36m4\u001b[0m\u001b[0;34m-\u001b[0m\u001b[0malpha\u001b[0m\u001b[0;34m,\u001b[0m \u001b[0malpha\u001b[0m\u001b[0;34m)\u001b[0m\u001b[0;34m,\u001b[0m \u001b[0mpi\u001b[0m\u001b[0;34m-\u001b[0m\u001b[0malpha\u001b[0m\u001b[0;34m-\u001b[0m\u001b[0mstep\u001b[0m\u001b[0;34m,\u001b[0m \u001b[0mstep\u001b[0m\u001b[0;34m)\u001b[0m\u001b[0;34m:\u001b[0m\u001b[0;34m\u001b[0m\u001b[0;34m\u001b[0m\u001b[0m\n\u001b[0;32m---> 10\u001b[0;31m         \u001b[0;32mif\u001b[0m \u001b[0mt\u001b[0m\u001b[0;34m*\u001b[0m\u001b[0mnp\u001b[0m\u001b[0;34m.\u001b[0m\u001b[0msin\u001b[0m\u001b[0;34m(\u001b[0m\u001b[0malpha\u001b[0m\u001b[0;34m+\u001b[0m\u001b[0mbeta\u001b[0m\u001b[0;34m)\u001b[0m \u001b[0;34m+\u001b[0m \u001b[0mnp\u001b[0m\u001b[0;34m.\u001b[0m\u001b[0msin\u001b[0m\u001b[0;34m(\u001b[0m\u001b[0malpha\u001b[0m\u001b[0;34m)\u001b[0m \u001b[0;34m>=\u001b[0m \u001b[0mt\u001b[0m\u001b[0;34m*\u001b[0m\u001b[0mnp\u001b[0m\u001b[0;34m.\u001b[0m\u001b[0msin\u001b[0m\u001b[0;34m(\u001b[0m\u001b[0mbeta\u001b[0m\u001b[0;34m)\u001b[0m \u001b[0;34m-\u001b[0m \u001b[0mepsilon\u001b[0m\u001b[0;34m:\u001b[0m\u001b[0;34m\u001b[0m\u001b[0;34m\u001b[0m\u001b[0m\n\u001b[0m\u001b[1;32m     11\u001b[0m             \u001b[0mprint\u001b[0m\u001b[0;34m(\u001b[0m\u001b[0;34m'alpha:'\u001b[0m\u001b[0;34m,\u001b[0m \u001b[0malpha\u001b[0m\u001b[0;34m,\u001b[0m \u001b[0;34m'beta:'\u001b[0m\u001b[0;34m,\u001b[0m \u001b[0mbeta\u001b[0m\u001b[0;34m)\u001b[0m\u001b[0;34m\u001b[0m\u001b[0;34m\u001b[0m\u001b[0m\n\u001b[1;32m     12\u001b[0m \u001b[0;34m\u001b[0m\u001b[0m\n",
      "\u001b[0;31mKeyboardInterrupt\u001b[0m: "
     ]
    }
   ],
   "source": [
    "# beta >= alpha > 0\n",
    "# pi > alpha + beta >= 3pi/4\n",
    "# t * sin(alpha+beta) + sin(alpha) >= t * sin(beta)\n",
    "t = (3+4*pi)/3\n",
    "epsilon = 0.0001\n",
    "step=0.00005\n",
    "\n",
    "for alpha in np.arange(step, pi, step):\n",
    "    for beta in np.arange(max(3*pi/4-alpha, alpha), pi-alpha-step, step):\n",
    "        if t*np.sin(alpha+beta) + np.sin(alpha) >= t*np.sin(beta) - epsilon:\n",
    "            print('alpha:', alpha, 'beta:', beta)\n",
    "\n",
    "print('no examples found')"
   ]
  },
  {
   "cell_type": "code",
   "execution_count": null,
   "metadata": {},
   "outputs": [],
   "source": [
    "# similar as above but with different inequality\n",
    "# sin(alpha+beta) + sin(alpha) >= sin(beta)\n",
    "t = (3+4*pi)/3\n",
    "epsilon = 0.0001\n",
    "step=0.01\n",
    "\n",
    "for alpha in np.arange(step, pi, step):\n",
    "    for beta in np.arange(max(3*pi/4-alpha, alpha), pi-alpha-step, step):\n",
    "        if np.sin(alpha+beta) + np.sin(alpha) >= np.sin(beta) - epsilon:\n",
    "            print('alpha:', alpha, 'beta:', beta, 'sin a:', np.sin(alpha),\n",
    "                 'sin a+b:', np.sin(alpha+beta), 'sin b:', np.sin(beta))\n",
    "\n",
    "print('no examples found')"
   ]
  },
  {
   "cell_type": "code",
   "execution_count": 41,
   "metadata": {},
   "outputs": [
    {
     "name": "stdout",
     "output_type": "stream",
     "text": [
      "5.1887902047863905\n"
     ]
    }
   ],
   "source": [
    "print(t)"
   ]
  },
  {
   "cell_type": "markdown",
   "metadata": {},
   "source": [
    "### Counter-example construction for degree 4\n",
    "This section is just full of little things for me to find a counter-example"
   ]
  },
  {
   "cell_type": "code",
   "execution_count": null,
   "metadata": {},
   "outputs": [],
   "source": []
  },
  {
   "cell_type": "code",
   "execution_count": 42,
   "metadata": {},
   "outputs": [],
   "source": [
    "# Original version\n",
    "V = np.array([0., 0.])\n",
    "C = np.array([-0.5, np.sqrt(3)/2])\n",
    "D = np.array([-1., 0.])\n",
    "B = np.array([0.5, np.sqrt(3)/2])\n",
    "#A = np.array([0.999, 0.04471017781])\n",
    "#A = np.array([1., 0.])"
   ]
  },
  {
   "cell_type": "code",
   "execution_count": 43,
   "metadata": {},
   "outputs": [],
   "source": [
    "# Scaled version\n",
    "V = np.array([0., 0.])\n",
    "C = np.array([-50., 100*np.sqrt(3)/2])\n",
    "D = np.array([-100., 0.])\n",
    "B = np.array([50., 100*np.sqrt(3)/2])"
   ]
  },
  {
   "cell_type": "code",
   "execution_count": 44,
   "metadata": {},
   "outputs": [],
   "source": [
    "# This is important if I want to not depend on the sort for distances\n",
    "# It's easier to define the points in \"nice\" locations and then rotate\n",
    "C = point_rotation(V, C, -0.01)\n",
    "B = point_rotation(V, B, -0.015)"
   ]
  },
  {
   "cell_type": "code",
   "execution_count": 45,
   "metadata": {},
   "outputs": [],
   "source": [
    "# Original version\n",
    "A = get_next_A(V, D, angle=0.04, scale=1.0)\n",
    "A1 = get_next_A(A, V)\n",
    "A2 = get_next_A(A1, A)\n",
    "A3 = get_next_A(A2, A1, angle=pi/18, scale=0.4)"
   ]
  },
  {
   "cell_type": "code",
   "execution_count": 46,
   "metadata": {},
   "outputs": [],
   "source": [
    "# Scaled version\n",
    "A = get_next_A(V, D, angle=0.04, scale=100.0)\n",
    "A1 = get_next_A(A, V, scale=70.)\n",
    "A2 = get_next_A(A1, A, scale=70.)\n",
    "A3 = get_next_A(A2, A1, angle=pi/18, scale=40.)"
   ]
  },
  {
   "cell_type": "code",
   "execution_count": 47,
   "metadata": {},
   "outputs": [],
   "source": [
    "# Original version\n",
    "T = -0.01\n",
    "B1 = get_next_A(B, C, angle=T, scale=0.7)\n",
    "B2 = get_next_A(B1, B, angle=T, scale=0.8)\n",
    "B3 = get_next_A(B2, B1, angle=T, scale=0.9)"
   ]
  },
  {
   "cell_type": "code",
   "execution_count": 48,
   "metadata": {},
   "outputs": [],
   "source": [
    "# Scaled version\n",
    "T = -0.01\n",
    "B1 = get_next_A(B, C, angle=T, scale=70.)\n",
    "B2 = get_next_A(B1, B, angle=T, scale=80.)\n",
    "B3 = get_next_A(B2, B1, angle=T, scale=90.)"
   ]
  },
  {
   "cell_type": "code",
   "execution_count": 49,
   "metadata": {},
   "outputs": [
    {
     "name": "stdout",
     "output_type": "stream",
     "text": [
      "N = 11\n",
      "Planarity: PLANAR\n",
      "Max degree: 4\n",
      "Stretch: 3.45837\n",
      "\n"
     ]
    },
    {
     "data": {
      "image/png": "[encoded data removed]",
      "text/plain": [
       "<PIL.Image.Image image mode=RGB size=800x300 at 0x7FEA8153AEF0>"
      ]
     },
     "execution_count": 49,
     "metadata": {},
     "output_type": "execute_result"
    }
   ],
   "source": [
    "get_and_draw_from_file('../pointsets/hand/013.txt', img_w=800)"
   ]
  },
  {
   "cell_type": "code",
   "execution_count": 50,
   "metadata": {},
   "outputs": [
    {
     "name": "stdout",
     "output_type": "stream",
     "text": [
      "Convex hull\n"
     ]
    },
    {
     "data": {
      "image/png": "[encoded data removed]",
      "text/plain": [
       "<PIL.Image.Image image mode=RGB size=800x300 at 0x7FEA8153AC50>"
      ]
     },
     "execution_count": 50,
     "metadata": {},
     "output_type": "execute_result"
    }
   ],
   "source": [
    "print('Convex hull')\n",
    "draw_line_segments([\n",
    "    [B3, A3],\n",
    "    [B3, B2], [B2, B1], [B1, B],\n",
    "    [A3, A2], [A2, A1], [A1, A],\n",
    "    [A, V], [B, C],\n",
    "    [C, D], [V, D]], img_w=800)"
   ]
  },
  {
   "cell_type": "code",
   "execution_count": 51,
   "metadata": {},
   "outputs": [
    {
     "name": "stdout",
     "output_type": "stream",
     "text": [
      "11\n",
      "-49.131489050733386 87.09820195421754\n",
      "-100.0 0.0\n",
      "278.6114863027456 20.99050464871304\n",
      "261.1754717643324 79.01925477899111\n",
      "239.70656668920972 11.694955721172022\n",
      "191.2386809991664 81.99335926091308\n",
      "169.83252889374543 7.497475267610899\n",
      "121.27564649526082 84.26795878727201\n",
      "99.9200106660978 3.998933418663416\n",
      "51.29336449776368 85.84282590001075\n",
      "0.0 0.0\n"
     ]
    }
   ],
   "source": [
    "# printing all points\n",
    "#all_points = [V, C, D, A, A1, A2, A3, B, B1, B2, B3]\n",
    "all_points = [C, D, A3, B3, A2, B2, A1, B1, A, B, V]\n",
    "print(len(all_points))\n",
    "for p in all_points:\n",
    "    print(p[0], p[1])"
   ]
  },
  {
   "cell_type": "code",
   "execution_count": 52,
   "metadata": {},
   "outputs": [
    {
     "data": {
      "text/plain": [
       "True"
      ]
     },
     "execution_count": 52,
     "metadata": {},
     "output_type": "execute_result"
    }
   ],
   "source": [
    "are_convex(all_points)"
   ]
  },
  {
   "cell_type": "code",
   "execution_count": null,
   "metadata": {},
   "outputs": [],
   "source": []
  },
  {
   "cell_type": "code",
   "execution_count": 53,
   "metadata": {},
   "outputs": [
    {
     "name": "stdout",
     "output_type": "stream",
     "text": [
      "Are there three collinear points?\n"
     ]
    },
    {
     "data": {
      "text/plain": [
       "False"
      ]
     },
     "execution_count": 53,
     "metadata": {},
     "output_type": "execute_result"
    }
   ],
   "source": [
    "print('Are there three collinear points?')\n",
    "check_collinearity(all_points)"
   ]
  },
  {
   "cell_type": "code",
   "execution_count": 54,
   "metadata": {},
   "outputs": [],
   "source": [
    "def cross(A, B, C):\n",
    "    return ((A-B)[0]*(C-B)[1] - (A-B)[1]*(C-B)[0])"
   ]
  },
  {
   "cell_type": "code",
   "execution_count": 55,
   "metadata": {},
   "outputs": [],
   "source": [
    "def verify_hull(points, eps=0.001):\n",
    "    N = len(points)\n",
    "    for i in range(N):\n",
    "        if (cross(points[i], points[(i+1)%N], points[(i+2)%N]) < eps):\n",
    "            return False\n",
    "    return True"
   ]
  },
  {
   "cell_type": "code",
   "execution_count": 56,
   "metadata": {},
   "outputs": [
    {
     "data": {
      "text/plain": [
       "70.30171811672781"
      ]
     },
     "execution_count": 56,
     "metadata": {},
     "output_type": "execute_result"
    }
   ],
   "source": [
    "cross(C, B, B1)"
   ]
  },
  {
   "cell_type": "code",
   "execution_count": 57,
   "metadata": {},
   "outputs": [
    {
     "data": {
      "text/plain": [
       "True"
      ]
     },
     "execution_count": 57,
     "metadata": {},
     "output_type": "execute_result"
    }
   ],
   "source": [
    "verify_hull([V, D, C, B, B1, B2, B3, A3, A2, A1, A])"
   ]
  },
  {
   "cell_type": "code",
   "execution_count": 58,
   "metadata": {},
   "outputs": [
    {
     "name": "stdout",
     "output_type": "stream",
     "text": [
      "angle (V, D, C)    = 1.0421975511965977\n",
      "angle (D, C, B)    = 2.086895102393196\n",
      "angle (C, B, B1)   = 3.131592653589803\n",
      "angle (B, B1, B2)  = 3.131592653589803\n",
      "angle (B1, B2, B3) = 3.131592653589803\n",
      "angle (B2, B3, A3) = 1.9051860914041263\n",
      "angle (B3, A3, A2) = 1.5134394873850998\n",
      "angle (A3, A2, A1) = 2.96705972839036\n",
      "angle (A2, A1, A)  = 3.131592653589803\n",
      "angle (A1, A, V)   = 3.131592653589803\n",
      "angle (A, V, D)    = 3.1015926535897926\n",
      "actual angle sum   =  28.274333882308188\n",
      "expected angle sum =  28.274333882308138\n"
     ]
    }
   ],
   "source": [
    "# yet another sanity check\n",
    "ang_sum = 0.0\n",
    "ppp = [V, D, C, B, B1, B2, B3, A3, A2, A1, A]\n",
    "for i in range(len(ppp)):\n",
    "    ang_sum += angle_between(ppp[i], ppp[(i+1)%11], ppp[(i+2)%11])\n",
    "\n",
    "print('angle (V, D, C)    =', angle_between(V, D, C))\n",
    "print('angle (D, C, B)    =', angle_between(D, C, B))\n",
    "print('angle (C, B, B1)   =', angle_between(C, B, B1))\n",
    "print('angle (B, B1, B2)  =', angle_between(B, B1, B2))\n",
    "print('angle (B1, B2, B3) =', angle_between(B1, B2, B3))\n",
    "print('angle (B2, B3, A3) =', angle_between(B2, B3, A3))\n",
    "print('angle (B3, A3, A2) =', angle_between(B3, A3, A2))\n",
    "print('angle (A3, A2, A1) =', angle_between(A3, A2, A1))\n",
    "print('angle (A2, A1, A)  =', angle_between(A2, A1, A))\n",
    "print('angle (A1, A, V)   =', angle_between(A1, A, V))\n",
    "print('angle (A, V, D)    =', angle_between(A, V, D))\n",
    "\n",
    "print('actual angle sum   = ', ang_sum)\n",
    "print('expected angle sum = ', (len(all_points)-2)*pi)"
   ]
  },
  {
   "cell_type": "code",
   "execution_count": 59,
   "metadata": {},
   "outputs": [
    {
     "data": {
      "text/plain": [
       "85.38736138035526"
      ]
     },
     "execution_count": 59,
     "metadata": {},
     "output_type": "execute_result"
    }
   ],
   "source": [
    "point_dist(A2, B2)"
   ]
  },
  {
   "cell_type": "code",
   "execution_count": 60,
   "metadata": {},
   "outputs": [
    {
     "data": {
      "text/plain": [
       "60.59166976297982"
      ]
     },
     "execution_count": 60,
     "metadata": {},
     "output_type": "execute_result"
    }
   ],
   "source": [
    "point_dist(A3, B3)"
   ]
  },
  {
   "cell_type": "code",
   "execution_count": 61,
   "metadata": {},
   "outputs": [
    {
     "data": {
      "text/plain": [
       "70.0"
      ]
     },
     "execution_count": 61,
     "metadata": {},
     "output_type": "execute_result"
    }
   ],
   "source": [
    "point_dist(B3, B2)"
   ]
  },
  {
   "cell_type": "code",
   "execution_count": 62,
   "metadata": {},
   "outputs": [
    {
     "data": {
      "text/plain": [
       "70.0"
      ]
     },
     "execution_count": 62,
     "metadata": {},
     "output_type": "execute_result"
    }
   ],
   "source": [
    "point_dist(A, A1)"
   ]
  },
  {
   "cell_type": "markdown",
   "metadata": {},
   "source": [
    "### Attempt at non-planar graph\n",
    "This is the part where I try to build a graph that is not planar"
   ]
  },
  {
   "cell_type": "code",
   "execution_count": 13,
   "metadata": {},
   "outputs": [
    {
     "name": "stdout",
     "output_type": "stream",
     "text": [
      "hold your breath and count to 10\n"
     ]
    }
   ],
   "source": [
    "### Finding an alpha\n",
    "step = 0.01\n",
    "epsilon = 0.0001\n",
    "t = (3+4*pi)/3\n",
    "\n",
    "for alpha in np.arange(step, pi/2, step):\n",
    "    for gamma in np.arange(pi/2, pi-alpha, step):\n",
    "        # condition1\n",
    "        lhs = 1. + 2*np.sin(gamma-pi/2)*np.sin(alpha+gamma)/np.sin(alpha)\n",
    "        rhs = np.sin(gamma)/np.sin(alpha)\n",
    "        condition1 = lhs >= rhs-epsilon\n",
    "        \n",
    "        # condition2 -- regarding path\n",
    "        lhs = t * np.sin(alpha+gamma)/np.sin(alpha) + 1\n",
    "        rhs = t * np.sin(gamma)/np.sin(alpha)\n",
    "        condition2 = lhs >= rhs-epsilon\n",
    "        \n",
    "        # condition3 -- regarding path + 2pi/3\n",
    "    \n",
    "        if condition1 and condition2:\n",
    "            print('alpha:', alpha, 'gamma:', gamma)\n",
    "print('hold your breath and count to 10')"
   ]
  },
  {
   "cell_type": "code",
   "execution_count": 19,
   "metadata": {},
   "outputs": [
    {
     "name": "stdout",
     "output_type": "stream",
     "text": [
      "done\n"
     ]
    }
   ],
   "source": [
    "step = 0.001\n",
    "epsilon = 0.0001\n",
    "K = 2*pi/3.\n",
    "for beta in np.arange(step, pi/2, step):\n",
    "    for gamma in np.arange(pi/2, pi-beta, step):\n",
    "        # condition 1\n",
    "        lhs = np.sin(beta) + 2*np.sin(beta+gamma)*np.cos(pi-gamma)\n",
    "        rhs = np.sin(gamma)\n",
    "        condition1 = lhs >= rhs-epsilon\n",
    "        \n",
    "        # condition 2\n",
    "        lhs = t * np.sin(beta+gamma) + K * np.sin(beta)\n",
    "        rhs = t * np.sin(gamma)\n",
    "        condition2 = lhs > rhs\n",
    "        \n",
    "        if condition1 and condition2:\n",
    "            print('beta:', beta, 'gamma:', gamma)\n",
    "            \n",
    "print('done')"
   ]
  },
  {
   "cell_type": "code",
   "execution_count": 64,
   "metadata": {},
   "outputs": [],
   "source": [
    "A = np.array([100., 0])\n",
    "B = np.array([50., 100*np.sqrt(3)/2])\n",
    "C = refY(B)\n",
    "D = refY(A)"
   ]
  },
  {
   "cell_type": "code",
   "execution_count": 65,
   "metadata": {},
   "outputs": [],
   "source": [
    "# Scaled version\n",
    "A1 = get_next_A(A, np.array([0.0, 0.0]), scale=70.)\n",
    "A2 = get_next_A(A1, A, scale=70.)\n",
    "A3 = get_next_A(A2, A1, angle=pi/18, scale=50.)"
   ]
  },
  {
   "cell_type": "code",
   "execution_count": 66,
   "metadata": {},
   "outputs": [],
   "source": [
    "# Scaled version\n",
    "T = -0.01\n",
    "B1 = get_next_A(B, C, angle=T, scale=70.)\n",
    "B2 = get_next_A(B1, B, angle=T, scale=80.)\n",
    "B3 = get_next_A(B2, B1, angle=T, scale=90.)"
   ]
  },
  {
   "cell_type": "code",
   "execution_count": 67,
   "metadata": {},
   "outputs": [],
   "source": [
    "# Reflect points\n",
    "C1 = refY(B1)\n",
    "C2 = refY(B2)\n",
    "C3 = refY(B3)\n",
    "D1 = refY(A1)\n",
    "D2 = refY(A2)\n",
    "D3 = refY(A3)"
   ]
  },
  {
   "cell_type": "code",
   "execution_count": 68,
   "metadata": {},
   "outputs": [
    {
     "name": "stdout",
     "output_type": "stream",
     "text": [
      "Interesting parts\n"
     ]
    },
    {
     "data": {
      "image/png": "[encoded data removed]",
      "text/plain": [
       "<PIL.Image.Image image mode=RGB size=300x300 at 0x7FEA81548518>"
      ]
     },
     "execution_count": 68,
     "metadata": {},
     "output_type": "execute_result"
    }
   ],
   "source": [
    "print('Interesting parts')\n",
    "draw_line_segments([\n",
    "    [A, A1], [A1, A2], [A2, A3],\n",
    "    [B, B1], [B1, B2], [B2, B3], [B3, A3],\n",
    "    [C, C1], [C1, C2], [C2, C3], [C3, D3],\n",
    "    [D, D1], [D1, D2], [D2, D3],\n",
    "    [A, B],\n",
    "    [C, D],\n",
    "    [B, C],\n",
    "    [D, A]])"
   ]
  },
  {
   "cell_type": "code",
   "execution_count": 69,
   "metadata": {},
   "outputs": [
    {
     "data": {
      "text/plain": [
       "True"
      ]
     },
     "execution_count": 69,
     "metadata": {},
     "output_type": "execute_result"
    }
   ],
   "source": [
    "verify_hull([D, D1, D2, D3, C3, C2, C1, C, B, B1, B2, B3, A3, A2, A1, A])"
   ]
  },
  {
   "cell_type": "code",
   "execution_count": 70,
   "metadata": {},
   "outputs": [
    {
     "data": {
      "text/plain": [
       "476.39249164490377"
      ]
     },
     "execution_count": 70,
     "metadata": {},
     "output_type": "execute_result"
    }
   ],
   "source": [
    "# important path sum\n",
    "point_dist(B, B1) +\\\n",
    "point_dist(B1, B2) +\\\n",
    "point_dist(B2, B3) +\\\n",
    "point_dist(B3, A3) +\\\n",
    "point_dist(A3, A2) +\\\n",
    "point_dist(A2, A1) +\\\n",
    "point_dist(A, A1)"
   ]
  },
  {
   "cell_type": "code",
   "execution_count": 71,
   "metadata": {},
   "outputs": [
    {
     "name": "stdout",
     "output_type": "stream",
     "text": [
      "16\n",
      "100.0 0.0\n",
      "-169.99650002916655 0.6999883333916666\n",
      "-239.98250049582697 2.099895001924982\n",
      "-289.0394037958189 11.765309561851858\n",
      "-259.9510028582562 82.40296036234417\n",
      "-189.98250049582703 84.50264537651887\n",
      "-119.99650002916657 85.90255204505219\n",
      "-50.0 86.60254037844386\n",
      "50.0 86.60254037844386\n",
      "119.99650002916657 85.90255204505219\n",
      "189.98250049582703 84.50264537651887\n",
      "259.9510028582562 82.40296036234417\n",
      "289.0394037958189 11.765309561851858\n",
      "239.98250049582697 2.099895001924982\n",
      "169.99650002916655 0.6999883333916666\n",
      "100.0 0.0\n"
     ]
    }
   ],
   "source": [
    "# printing all points\n",
    "all_points = [A, D1, D2, D3, C3, C2, C1, C, B, B1, B2, B3, A3, A2, A1, A]\n",
    "print(len(all_points))\n",
    "for p in all_points:\n",
    "    print(p[0], p[1])"
   ]
  },
  {
   "cell_type": "code",
   "execution_count": 72,
   "metadata": {},
   "outputs": [
    {
     "name": "stdout",
     "output_type": "stream",
     "text": [
      "N = 16\n",
      "Planarity: PLANAR\n",
      "Max degree: 2\n",
      "Stretch: 4.76392\n",
      "\n"
     ]
    },
    {
     "data": {
      "image/png": "[encoded data removed]",
      "text/plain": [
       "<PIL.Image.Image image mode=RGB size=300x300 at 0x7FEA81276630>"
      ]
     },
     "execution_count": 72,
     "metadata": {},
     "output_type": "execute_result"
    }
   ],
   "source": [
    "get_and_draw_from_file('../pointsets/hand/016.txt')"
   ]
  },
  {
   "cell_type": "code",
   "execution_count": null,
   "metadata": {},
   "outputs": [],
   "source": []
  },
  {
   "cell_type": "code",
   "execution_count": null,
   "metadata": {},
   "outputs": [],
   "source": [
    "# ->mark kyle<- and goodwin\n",
    "# spanning ratio of a delauney triangulation\n",
    "# inequalities - littlewood, polya, hardy\n",
    "\n",
    "# degree < pi/4 is a local property"
   ]
  }
 ],
 "metadata": {
  "kernelspec": {
   "display_name": "Python 3",
   "language": "python",
   "name": "python3"
  },
  "language_info": {
   "codemirror_mode": {
    "name": "ipython",
    "version": 3
   },
   "file_extension": ".py",
   "mimetype": "text/x-python",
   "name": "python",
   "nbconvert_exporter": "python",
   "pygments_lexer": "ipython3",
   "version": "3.7.2"
  }
 },
 "nbformat": 4,
 "nbformat_minor": 2
}
