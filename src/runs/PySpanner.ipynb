{
 "cells": [
  {
   "cell_type": "code",
   "execution_count": 1,
   "metadata": {},
   "outputs": [],
   "source": [
    "import sys\n",
    "sys.path.append('..')\n",
    "from py_models.geo_math import *\n",
    "from py_models.draw_tools import draw_euclidean_spanner\n",
    "from py_models.euclidean_spanner import EuclideanSpanner"
   ]
  },
  {
   "cell_type": "code",
   "execution_count": 2,
   "metadata": {},
   "outputs": [
    {
     "data": {
      "image/png": "[encoded data removed]",
      "text/plain": [
       "<PIL.Image.Image image mode=RGB size=300x300 at 0x7FC0462A0390>"
      ]
     },
     "execution_count": 2,
     "metadata": {},
     "output_type": "execute_result"
    }
   ],
   "source": [
    "# A test\n",
    "pointset = {'A': [1, 1], 'B': [-1, 1], 'C': [-1, -1], 'D': [1, -1], 'O': [0, 0]}\n",
    "edges = [['A', 'B'],['A', 'D'],['C', 'B'], ['C', 'B'], ['O', 'A']]\n",
    "spanner = EuclideanSpanner(pointset, edges)\n",
    "draw_euclidean_spanner(spanner)"
   ]
  },
  {
   "cell_type": "code",
   "execution_count": 3,
   "metadata": {},
   "outputs": [],
   "source": [
    "def print_stretch_info(spanner):\n",
    "    print('Stretch-ratio: {}\\nMax-stretch pair: {}'.format(spanner.stretch(), spanner.stretch_pair()))"
   ]
  },
  {
   "cell_type": "markdown",
   "metadata": {},
   "source": [
    "## Clock Spanners"
   ]
  },
  {
   "cell_type": "code",
   "execution_count": 4,
   "metadata": {},
   "outputs": [],
   "source": [
    "clock12 = {}\n",
    "clock12['O'] = [0, 0]\n",
    "clock12['12'] = [10, 0]\n",
    "clock12['1'] = point_rotation(-np.pi/6, clock12['12'])\n",
    "for i in range(2, 12):\n",
    "    clock12[str(i)] = point_rotation(-np.pi/6, clock12[str(i-1)])\n",
    "    \n",
    "clock12_edges = [['12', '1'], ['O', '12'], ['O', '4'], ['O', '8'], ['1', '3'], ['5', '7'], ['9', '11']]\n",
    "for i in range(1, 12):\n",
    "    clock12_edges.append([str(i), str(i+1)])"
   ]
  },
  {
   "cell_type": "code",
   "execution_count": 5,
   "metadata": {},
   "outputs": [],
   "source": [
    "clock12_spanner = EuclideanSpanner(clock12, clock12_edges)"
   ]
  },
  {
   "cell_type": "code",
   "execution_count": 6,
   "metadata": {},
   "outputs": [
    {
     "data": {
      "image/png": "[encoded data removed]",
      "text/plain": [
       "<PIL.Image.Image image mode=RGB size=300x300 at 0x7FC046896D10>"
      ]
     },
     "execution_count": 6,
     "metadata": {},
     "output_type": "execute_result"
    }
   ],
   "source": [
    "draw_euclidean_spanner(clock12_spanner)"
   ]
  },
  {
   "cell_type": "code",
   "execution_count": 17,
   "metadata": {},
   "outputs": [
    {
     "name": "stdout",
     "output_type": "stream",
     "text": [
      "Stretch-ratio: 2.035276180410083\n",
      "Max-stretch pair: ['2', 'O']\n"
     ]
    }
   ],
   "source": [
    "print_stretch_info(clock12_spanner)"
   ]
  },
  {
   "cell_type": "markdown",
   "metadata": {},
   "source": [
    "## Hexagons-are-the-bestagons spanners"
   ]
  },
  {
   "cell_type": "code",
   "execution_count": 8,
   "metadata": {},
   "outputs": [],
   "source": [
    "hexagon_points = {'O': [0,    0],\n",
    "           'A': [-0.5, np.sqrt(3)/2],\n",
    "           'B': [0,    np.sqrt(3)],\n",
    "           'C': [1,    np.sqrt(3)],\n",
    "           'D': [1.5,  np.sqrt(3)/2],\n",
    "           'E': [1,    0],\n",
    "           'F': [1.5,  -np.sqrt(3)/2],\n",
    "           'G': [1,    -np.sqrt(3)],\n",
    "           'H': [0,    -np.sqrt(3)],\n",
    "           'I': [-0.5, -np.sqrt(3)/2],\n",
    "           'J': [-1.5, -np.sqrt(3)/2],\n",
    "           'K': [-2, 0],\n",
    "           'L': [-1.5, np.sqrt(3)/2]}\n",
    "hexagon_conv = list(hexagon_points.keys())\n",
    "hexagon_edges = [[hexagon_conv[i], hexagon_conv[i+1]] for i in range(len(hexagon_conv)-1)]\n",
    "hexagon_edges.append(['L', 'A'])\n",
    "hexagon_edges.append(['O', 'E'])\n",
    "hexagon_edges.append(['O', 'I'])"
   ]
  },
  {
   "cell_type": "code",
   "execution_count": 9,
   "metadata": {},
   "outputs": [],
   "source": [
    "hexagon_spanner = EuclideanSpanner(hexagon_points, hexagon_edges)"
   ]
  },
  {
   "cell_type": "code",
   "execution_count": 10,
   "metadata": {},
   "outputs": [
    {
     "data": {
      "image/png": "[encoded data removed]",
      "text/plain": [
       "<PIL.Image.Image image mode=RGB size=300x300 at 0x7FC0461CA850>"
      ]
     },
     "execution_count": 10,
     "metadata": {},
     "output_type": "execute_result"
    }
   ],
   "source": [
    "draw_euclidean_spanner(hexagon_spanner)"
   ]
  },
  {
   "cell_type": "code",
   "execution_count": 11,
   "metadata": {},
   "outputs": [
    {
     "name": "stdout",
     "output_type": "stream",
     "text": [
      "Stretch-ratio: 1.5000000000000002\n",
      "Max-stretch pair: ['A', 'J']\n"
     ]
    }
   ],
   "source": [
    "print_stretch_info(hexagon_spanner)"
   ]
  },
  {
   "cell_type": "code",
   "execution_count": 12,
   "metadata": {},
   "outputs": [
    {
     "data": {
      "text/plain": [
       "['A', 'J']"
      ]
     },
     "execution_count": 12,
     "metadata": {},
     "output_type": "execute_result"
    }
   ],
   "source": [
    "hexagon_spanner.stretch_pair()"
   ]
  },
  {
   "cell_type": "markdown",
   "metadata": {},
   "source": [
    "### Next step: Add a point in the middle of each outside edge to simulate incidences. It's not a complete proof of the maximum possible stretch ratio, but I strongly believe it will yield the correct result."
   ]
  },
  {
   "cell_type": "code",
   "execution_count": 30,
   "metadata": {},
   "outputs": [
    {
     "data": {
      "text/plain": [
       "[['A', 'A5'],\n",
       " ['A5', 'B'],\n",
       " ['B', 'B5'],\n",
       " ['B5', 'C'],\n",
       " ['C', 'C5'],\n",
       " ['C5', 'D'],\n",
       " ['D', 'D5'],\n",
       " ['D5', 'E'],\n",
       " ['E', 'E5'],\n",
       " ['E5', 'F'],\n",
       " ['F', 'F5'],\n",
       " ['F5', 'G'],\n",
       " ['G', 'G5'],\n",
       " ['G5', 'H'],\n",
       " ['H', 'H5'],\n",
       " ['H5', 'I'],\n",
       " ['I', 'I5'],\n",
       " ['I5', 'J'],\n",
       " ['J', 'J5'],\n",
       " ['J5', 'K'],\n",
       " ['K', 'K5'],\n",
       " ['K5', 'L'],\n",
       " ['L', 'L5'],\n",
       " ['L5', 'A'],\n",
       " ['O', 'A'],\n",
       " ['O', 'E'],\n",
       " ['O', 'I']]"
      ]
     },
     "execution_count": 30,
     "metadata": {},
     "output_type": "execute_result"
    }
   ],
   "source": [
    "n_hexagon_points = {'O': [0,    0],\n",
    "           'A': [-0.5, np.sqrt(3)/2],\n",
    "           'B': [0,    np.sqrt(3)],\n",
    "           'C': [1,    np.sqrt(3)],\n",
    "           'D': [1.5,  np.sqrt(3)/2],\n",
    "           'E': [1,    0],\n",
    "           'F': [1.5,  -np.sqrt(3)/2],\n",
    "           'G': [1,    -np.sqrt(3)],\n",
    "           'H': [0,    -np.sqrt(3)],\n",
    "           'I': [-0.5, -np.sqrt(3)/2],\n",
    "           'J': [-1.5, -np.sqrt(3)/2],\n",
    "           'K': [-2, 0],\n",
    "           'L': [-1.5, np.sqrt(3)/2]}\n",
    "alphabet_list = [chr(i) for i in range(ord('A'),ord('L')+1)]\n",
    "alphabet_list.append('A')\n",
    "for i in range(len(alphabet_list)-1):\n",
    "    n_hexagon_points[alphabet_list[i] + '5'] =\\\n",
    "        (np.array(n_hexagon_points[alphabet_list[i]]) + np.array(n_hexagon_points[alphabet_list[i+1]]))/2\n",
    "\n",
    "n_hexagon_conv = sorted(list(n_hexagon_points.keys()))[:-1]\n",
    "n_hexagon_conv.append('A')\n",
    "n_hexagon_edges = [[n_hexagon_conv[i], n_hexagon_conv[i+1]] for i in range(len(n_hexagon_conv)-1)]\n",
    "n_hexagon_edges.append(['O', 'A'])\n",
    "n_hexagon_edges.append(['O', 'E'])\n",
    "n_hexagon_edges.append(['O', 'I'])\n",
    "n_hexagon_edges"
   ]
  },
  {
   "cell_type": "code",
   "execution_count": 14,
   "metadata": {},
   "outputs": [],
   "source": [
    "n_hexagon_spanner = EuclideanSpanner(n_hexagon_points, n_hexagon_edges)"
   ]
  },
  {
   "cell_type": "code",
   "execution_count": 15,
   "metadata": {},
   "outputs": [
    {
     "data": {
      "image/png": "[encoded data removed]",
      "text/plain": [
       "<PIL.Image.Image image mode=RGB size=300x300 at 0x7FC04693C090>"
      ]
     },
     "execution_count": 15,
     "metadata": {},
     "output_type": "execute_result"
    }
   ],
   "source": [
    "draw_euclidean_spanner(n_hexagon_spanner)"
   ]
  },
  {
   "cell_type": "code",
   "execution_count": 16,
   "metadata": {},
   "outputs": [
    {
     "name": "stdout",
     "output_type": "stream",
     "text": [
      "Stretch-ratio: 1.7320508075688774\n",
      "Max-stretch pair: ['A5', 'D5']\n"
     ]
    }
   ],
   "source": [
    "print_stretch_info(n_hexagon_spanner)"
   ]
  },
  {
   "cell_type": "code",
   "execution_count": 19,
   "metadata": {},
   "outputs": [
    {
     "data": {
      "text/plain": [
       "1.7320508075688772"
      ]
     },
     "execution_count": 19,
     "metadata": {},
     "output_type": "execute_result"
    }
   ],
   "source": [
    "n_hexagon_spanner.eucl_dist('A5', 'D5')"
   ]
  },
  {
   "cell_type": "markdown",
   "metadata": {},
   "source": [
    "### One step further...?"
   ]
  },
  {
   "cell_type": "code",
   "execution_count": 34,
   "metadata": {},
   "outputs": [],
   "source": [
    "nn_hexagon_points = {'O': [0,    0],\n",
    "           'A': [-0.5, np.sqrt(3)/2],\n",
    "           'B': [0,    np.sqrt(3)],\n",
    "           'C': [1,    np.sqrt(3)],\n",
    "           'D': [1.5,  np.sqrt(3)/2],\n",
    "           'E': [1,    0],\n",
    "           'F': [1.5,  -np.sqrt(3)/2],\n",
    "           'G': [1,    -np.sqrt(3)],\n",
    "           'H': [0,    -np.sqrt(3)],\n",
    "           'I': [-0.5, -np.sqrt(3)/2],\n",
    "           'J': [-1.5, -np.sqrt(3)/2],\n",
    "           'K': [-2, 0],\n",
    "           'L': [-1.5, np.sqrt(3)/2]}\n",
    "for t in range(5, 0, -1):\n",
    "    points_to_split = sorted(list(nn_hexagon_points.keys()))[:-1]\n",
    "    points_to_split.append('A')\n",
    "    for i in range(len(points_to_split)-1):\n",
    "        nn_hexagon_points[points_to_split[i] + str(t)] = 1/2 *\\\n",
    "            (np.array(nn_hexagon_points[points_to_split[i]]) +\\\n",
    "             np.array(nn_hexagon_points[points_to_split[i+1]]))\n",
    "\n",
    "nn_hexagon_conv = sorted(list(nn_hexagon_points.keys()))[:-1]\n",
    "nn_hexagon_conv.append('A')\n",
    "nn_hexagon_edges = [[nn_hexagon_conv[i], nn_hexagon_conv[i+1]] for i in range(len(nn_hexagon_conv)-1)]\n",
    "nn_hexagon_edges.append(['O', 'A'])\n",
    "nn_hexagon_edges.append(['O', 'E'])\n",
    "nn_hexagon_edges.append(['O', 'I'])"
   ]
  },
  {
   "cell_type": "code",
   "execution_count": 35,
   "metadata": {},
   "outputs": [],
   "source": [
    "nn_hexagon_spanner = EuclideanSpanner(nn_hexagon_points, nn_hexagon_edges)"
   ]
  },
  {
   "cell_type": "code",
   "execution_count": 38,
   "metadata": {},
   "outputs": [
    {
     "data": {
      "image/png": "[encoded data removed]",
      "text/plain": [
       "<PIL.Image.Image image mode=RGB size=700x700 at 0x7FC046959550>"
      ]
     },
     "execution_count": 38,
     "metadata": {},
     "output_type": "execute_result"
    }
   ],
   "source": [
    "draw_euclidean_spanner(nn_hexagon_spanner, img_w = 700, img_h = 700)"
   ]
  },
  {
   "cell_type": "code",
   "execution_count": 37,
   "metadata": {},
   "outputs": [
    {
     "name": "stdout",
     "output_type": "stream",
     "text": [
      "Stretch-ratio: 1.7320508075688774\n",
      "Max-stretch pair: ['A5', 'D5']\n"
     ]
    }
   ],
   "source": [
    "print_stretch_info(nn_hexagon_spanner)"
   ]
  },
  {
   "cell_type": "code",
   "execution_count": null,
   "metadata": {},
   "outputs": [],
   "source": []
  }
 ],
 "metadata": {
  "kernelspec": {
   "display_name": "Python 3",
   "language": "python",
   "name": "python3"
  },
  "language_info": {
   "codemirror_mode": {
    "name": "ipython",
    "version": 3
   },
   "file_extension": ".py",
   "mimetype": "text/x-python",
   "name": "python",
   "nbconvert_exporter": "python",
   "pygments_lexer": "ipython3",
   "version": "3.8.5"
  }
 },
 "nbformat": 4,
 "nbformat_minor": 4
}
