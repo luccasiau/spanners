{
 "cells": [
  {
   "cell_type": "markdown",
   "metadata": {},
   "source": [
    "# Before you start...\n",
    "\n",
    "This page is not really ready for the whole world to use yet, so there are some quirks. There are three crucial files.\n",
    "\n",
    "- [Pointset class](https://github.com/luccasiau/spanners/blob/main/src/py_models/pointset.py). Most of the time, you'll be working with this one. It represents pointsets, contains some useful information about them, and are fed to the PathGreedy algorithm. The file is quite documented.\n",
    "- [Geo math](https://github.com/luccasiau/spanners/blob/main/src/py_models/geo_math.py). I implemented some basic operations that I was doing quite often, and they might save you some time too. The file should have (hopefully) good descriptions about what they are doing.\n",
    "- [Euclidean Spanner class](https://github.com/luccasiau/spanners/blob/main/src/py_models/euclidean_spanner.py). I don't use this very much. It lets you represent a spanner graph in full capacity. That is, you get to actually add or remove edges, calculate stretch between points or of the whole graph, etc. It's useful if you want to try out different algorithms other than PathGreedy, or just experiment creatively. But, as a I mentioned, I mostly use the Pointset class.\n",
    "\n",
    "**Point representation**. Each point is just an Numpy two-dimensional array, or `np.array([x_coordinate, y_coordinate])`. For simplicity, you can just write `point(x, y)`, which is just a function (implemented below) that makes code more readable.\n",
    "\n",
    "**Running and drawing**:\n",
    "- Use the function `draw_pathgreedy_from_pointset`. The inputs are just the pointset and the t ratio. Optionally, you can use img_w and img_h to make the output look nicer.\n",
    "- CRUCIAL NOTE: The Y-coordinates will be flipped (that is, the Y-axis points downwards).\n",
    "\n",
    "**Past pointsets**\n",
    "- The [pointsets/](https://github.com/luccasiau/spanners/tree/main/src/pointsets) folder contains many pointsets I've saved through experimentation. The ones in the [hand/](https://github.com/luccasiau/spanners/tree/main/src/pointsets/hand) folder are the ones I generated myself using notebooks such as this. Some nice ones include the `pointsets/hand/example_deg4.txt`, which is similar to the one at EuroCG, and `pointsets/hand/example_not_plane.txt`, which is the one we just found about breaking planarity.\n",
    "- The `pointsets/` folder is one level above, so you'll refer to it by using `../pointsets/`.\n",
    "\n",
    "**Pro-tip for Jupyter notebooks** if you've never used them before. Command/Ctrl + Enter is a shortcut for running a cell."
   ]
  },
  {
   "cell_type": "markdown",
   "metadata": {},
   "source": [
    "# Initialization\n",
    "This imports all needed library, tools, and defines constants and useful functions. You can ignore it, but it might be nice to know or edit what you need."
   ]
  },
  {
   "cell_type": "code",
   "execution_count": null,
   "metadata": {},
   "outputs": [],
   "source": [
    "import turtle\n",
    "import numpy as np\n",
    "import os\n",
    "import time\n",
    "import math\n",
    "import sys\n",
    "from math import pi\n",
    "import subprocess\n",
    "\n",
    "sys.path.append('..')\n",
    "from PIL import Image, ImageDraw\n",
    "from scipy.spatial import ConvexHull, convex_hull_plot_2d\n",
    "import random\n",
    "from py_models.geo_math import *\n",
    "from py_models.draw_tools import *\n",
    "from py_models.euclidean_spanner import EuclideanSpanner\n",
    "from py_models.pointset import Pointset"
   ]
  },
  {
   "cell_type": "code",
   "execution_count": null,
   "metadata": {},
   "outputs": [],
   "source": [
    "PI = np.pi\n",
    "PAPER_T = (3+4*PI)/3"
   ]
  },
  {
   "cell_type": "code",
   "execution_count": null,
   "metadata": {},
   "outputs": [],
   "source": [
    "def draw_pathgreedy_from_pointset(pointset, t=PAPER_T, img_w=300, img_h=300):\n",
    "    pointset.print_all_to_file('temp_file.in')\n",
    "    cmd = '../runs/printout_general_path_greedy_test ' + str(t) + ' < temp_file.in > temp_file.out'\n",
    "    output = subprocess.check_output(cmd, shell=True)\n",
    "\n",
    "    print('Pointset is' + (' ' if are_convex(pointset.points) else ' NOT ') + 'convex')\n",
    "    print(output)\n",
    "    ret = draw_line_segments(get_segments_from_file('temp_file.out'), img_w, img_h, pointset=pointset)\n",
    "    subprocess.check_call(['rm', 'temp_file.in'])\n",
    "    subprocess.check_call(['rm', 'temp_file.out'])\n",
    "    return ret"
   ]
  },
  {
   "cell_type": "code",
   "execution_count": null,
   "metadata": {},
   "outputs": [],
   "source": [
    "def point(x, y):\n",
    "    return np.array([x, y])"
   ]
  },
  {
   "cell_type": "markdown",
   "metadata": {},
   "source": [
    "# Example"
   ]
  },
  {
   "cell_type": "code",
   "execution_count": null,
   "metadata": {},
   "outputs": [],
   "source": [
    "points = dict()\n",
    "points[0] = point(0, 0)\n",
    "points[1] = point(100.00001, 0)\n",
    "points[2] = scale_vector(points[0], point_rotation(-PI/3, points[1], points[0]), .99999)\n",
    "points[3] = scale_vector(points[0], point_rotation(-PI/3, points[2], points[0]), 1.000001)\n",
    "\n",
    "# building right purple path, connecting 2 and 1.\n",
    "eps = .0001\n",
    "points[4] = scale_vector(points[2], point_rotation(PI+eps, points[3], points[2]), .9)\n",
    "points[5] = scale_vector(points[4], point_rotation(PI+eps, points[2], points[4]), .8)\n",
    "points[6] = scale_vector(points[1], point_rotation(PI-eps, points[0], points[1]), .9)\n",
    "points[7] = scale_vector(points[6], point_rotation(PI-0.3, points[1], points[6]), .7)\n",
    "points[8] = scale_vector(points[5], point_rotation(PI+0.4, points[4], points[5]), .5)\n",
    "\n",
    "# building left purple path, connecting 3 to 0.\n",
    "points[9]  = scale_vector(points[3], point_rotation(PI-eps, points[2], points[3]), .8)\n",
    "points[10] = scale_vector(points[9], point_rotation(PI-eps, points[3], points[9]), .7)\n",
    "points[11] = scale_vector(points[0], point_rotation(PI+eps, points[1], points[0]), .9)\n",
    "points[12] = scale_vector(points[11], point_rotation(PI+0.1, points[0], points[11]), .8)\n",
    "points[13] = scale_vector(points[10], point_rotation(PI-0.7, points[9], points[10]), .5)"
   ]
  },
  {
   "cell_type": "code",
   "execution_count": null,
   "metadata": {},
   "outputs": [],
   "source": [
    "# Initializing pointset, then running and drawing\n",
    "ps = Pointset(points=points, is_dict=True)\n",
    "draw_pathgreedy_from_pointset(ps, t=PAPER_T, img_w=900, img_h=300)"
   ]
  },
  {
   "cell_type": "markdown",
   "metadata": {},
   "source": [
    "#### Using alternative versions of the pointset constructor"
   ]
  },
  {
   "cell_type": "code",
   "execution_count": null,
   "metadata": {},
   "outputs": [],
   "source": [
    "# As a list\n",
    "ps = Pointset(points=list(points.values()))"
   ]
  },
  {
   "cell_type": "code",
   "execution_count": null,
   "metadata": {},
   "outputs": [],
   "source": [
    "# From the file\n",
    "ps = Pointset(file_path='../pointsets/hand/example_not_plane.txt')"
   ]
  },
  {
   "cell_type": "code",
   "execution_count": null,
   "metadata": {},
   "outputs": [],
   "source": []
  }
 ],
 "metadata": {
  "kernelspec": {
   "display_name": "Python 3",
   "language": "python",
   "name": "python3"
  },
  "language_info": {
   "codemirror_mode": {
    "name": "ipython",
    "version": 3
   },
   "file_extension": ".py",
   "mimetype": "text/x-python",
   "name": "python",
   "nbconvert_exporter": "python",
   "pygments_lexer": "ipython3",
   "version": "3.8.5"
  }
 },
 "nbformat": 4,
 "nbformat_minor": 4
}
